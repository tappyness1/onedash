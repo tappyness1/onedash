{
 "metadata": {
  "language_info": {
   "codemirror_mode": {
    "name": "ipython",
    "version": 3
   },
   "file_extension": ".py",
   "mimetype": "text/x-python",
   "name": "python",
   "nbconvert_exporter": "python",
   "pygments_lexer": "ipython3",
   "version": "3.7.6-final"
  },
  "orig_nbformat": 2,
  "kernelspec": {
   "name": "python3",
   "display_name": "Python 3",
   "language": "python"
  }
 },
 "nbformat": 4,
 "nbformat_minor": 2,
 "cells": [
  {
   "cell_type": "code",
   "execution_count": 1,
   "metadata": {},
   "outputs": [],
   "source": [
    "import pandas as pd"
   ]
  },
  {
   "cell_type": "code",
   "execution_count": 2,
   "metadata": {},
   "outputs": [],
   "source": [
    "data = pd.read_excel(\"../data/One Piece Database.xlsx\", sheet_name = \"Chapter Appearances\", engine = 'openpyxl')\n"
   ]
  },
  {
   "cell_type": "code",
   "execution_count": 7,
   "metadata": {},
   "outputs": [
    {
     "output_type": "execute_result",
     "data": {
      "text/plain": [
       "     Chapter Number     Character                   Note\n",
       "0               1.0        Shanks  Official Introduction\n",
       "1               1.0         Luffy  Official Introduction\n",
       "2               1.0        Higuma  Official Introduction\n",
       "3               1.0        Makino  Official Introduction\n",
       "4               1.0  Benn Beckman                   None\n",
       "..              ...           ...                    ...\n",
       "115            21.0        Cabaji                   None\n",
       "116            21.0         Mohji                   None\n",
       "117            21.0     Chou Chou                   None\n",
       "118            21.0    Funan Bros                   None\n",
       "119            22.0          None                   None\n",
       "\n",
       "[120 rows x 3 columns]"
      ],
      "text/html": "<div>\n<style scoped>\n    .dataframe tbody tr th:only-of-type {\n        vertical-align: middle;\n    }\n\n    .dataframe tbody tr th {\n        vertical-align: top;\n    }\n\n    .dataframe thead th {\n        text-align: right;\n    }\n</style>\n<table border=\"1\" class=\"dataframe\">\n  <thead>\n    <tr style=\"text-align: right;\">\n      <th></th>\n      <th>Chapter Number</th>\n      <th>Character</th>\n      <th>Note</th>\n    </tr>\n  </thead>\n  <tbody>\n    <tr>\n      <th>0</th>\n      <td>1.0</td>\n      <td>Shanks</td>\n      <td>Official Introduction</td>\n    </tr>\n    <tr>\n      <th>1</th>\n      <td>1.0</td>\n      <td>Luffy</td>\n      <td>Official Introduction</td>\n    </tr>\n    <tr>\n      <th>2</th>\n      <td>1.0</td>\n      <td>Higuma</td>\n      <td>Official Introduction</td>\n    </tr>\n    <tr>\n      <th>3</th>\n      <td>1.0</td>\n      <td>Makino</td>\n      <td>Official Introduction</td>\n    </tr>\n    <tr>\n      <th>4</th>\n      <td>1.0</td>\n      <td>Benn Beckman</td>\n      <td>None</td>\n    </tr>\n    <tr>\n      <th>...</th>\n      <td>...</td>\n      <td>...</td>\n      <td>...</td>\n    </tr>\n    <tr>\n      <th>115</th>\n      <td>21.0</td>\n      <td>Cabaji</td>\n      <td>None</td>\n    </tr>\n    <tr>\n      <th>116</th>\n      <td>21.0</td>\n      <td>Mohji</td>\n      <td>None</td>\n    </tr>\n    <tr>\n      <th>117</th>\n      <td>21.0</td>\n      <td>Chou Chou</td>\n      <td>None</td>\n    </tr>\n    <tr>\n      <th>118</th>\n      <td>21.0</td>\n      <td>Funan Bros</td>\n      <td>None</td>\n    </tr>\n    <tr>\n      <th>119</th>\n      <td>22.0</td>\n      <td>None</td>\n      <td>None</td>\n    </tr>\n  </tbody>\n</table>\n<p>120 rows × 3 columns</p>\n</div>"
     },
     "metadata": {},
     "execution_count": 7
    }
   ],
   "source": [
    "data['Chapter Number'] = data['Chapter Number'].ffill()\n",
    "data"
   ]
  },
  {
   "cell_type": "code",
   "execution_count": null,
   "metadata": {},
   "outputs": [],
   "source": []
  }
 ]
}