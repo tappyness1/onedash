{
 "cells": [
  {
   "cell_type": "code",
   "execution_count": 13,
   "metadata": {},
   "outputs": [],
   "source": [
    "import pandas as pd\n",
    "import sys; sys.path.insert(0, '..')\n",
    "from src.arcs import generate_arc\n",
    "import matplotlib.pyplot as plt\n",
    "import plotly.express as px\n",
    "import seaborn as sns\n",
    "import re\n",
    "import numpy as np"
   ]
  },
  {
   "cell_type": "code",
   "execution_count": 14,
   "metadata": {},
   "outputs": [],
   "source": [
    "data = pd.read_csv(\"../data/char_details.csv\")"
   ]
  },
  {
   "cell_type": "code",
   "execution_count": 15,
   "metadata": {},
   "outputs": [
    {
     "output_type": "execute_result",
     "data": {
      "text/plain": [
       "           Name                                        affiliation  \\\n",
       "0        Shanks  Red Hair Pirates;[2] Four Emperors;[3] Roger P...   \n",
       "1  Benn Beckman                                Red Hair Pirates[1]   \n",
       "2    Lucky Roux                                Red Hair Pirates[1]   \n",
       "3        Yasopp                                Red Hair Pirates[1]   \n",
       "4  Gol D. Roger                                   Roger Pirates[1]   \n",
       "\n",
       "                                                 age             bounty  \\\n",
       "0  27 (Chapter 1); 37 (Chapter 1 to 597);[6] 39 (...  4,048,900,000[10]   \n",
       "1  38 (Chapter 1);48 (Chapter 1 to 597);50 (Chapt...         Unknown[5]   \n",
       "2  23 (Chapter 1)33 (Chapter 1 to 597)35 (Chapter...         Unknown[2]   \n",
       "3  35 (Chapter 1);45 (Chapter 96 to 597)47 (Chapt...         Unknown[5]   \n",
       "4                                                NaN   5,564,800,000[5]   \n",
       "\n",
       "                                             epithet                    first  \\\n",
       "0  \"Red-Haired Shanks\" (赤髪のシャンクス, Akagami no Shan...  Chapter 1; Episode 4[1]   \n",
       "1                                                NaN  Chapter 1; Episode 4[1]   \n",
       "2                                                NaN  Chapter 1; Episode 4[1]   \n",
       "3                  \"Chaser\" (追擊者（チェイサー）, Cheisā?)[3]  Chapter 1; Episode 4[1]   \n",
       "4  Gold Roger (ゴールド・ロジャー, Gōrudo Rojā?),[1]Pirate...    Chapter 1; We Are![1]   \n",
       "\n",
       "                                occupation    status           residence  \\\n",
       "0  Pirate Chief;[5] Apprentice (former)[4]     Alive                 NaN   \n",
       "1                 Pirate;[1] First Mate[2]     Alive                 NaN   \n",
       "2          Pirate Officer[1]; Combatant[2]     Alive                 NaN   \n",
       "3                Pirate Officer; Sniper[2]     Alive                 NaN   \n",
       "4                       Pirate;[1] Captain  Deceased  Loguetown (former)   \n",
       "\n",
       "  dfname  \n",
       "0    NaN  \n",
       "1    NaN  \n",
       "2    NaN  \n",
       "3    NaN  \n",
       "4    NaN  "
      ],
      "text/html": "<div>\n<style scoped>\n    .dataframe tbody tr th:only-of-type {\n        vertical-align: middle;\n    }\n\n    .dataframe tbody tr th {\n        vertical-align: top;\n    }\n\n    .dataframe thead th {\n        text-align: right;\n    }\n</style>\n<table border=\"1\" class=\"dataframe\">\n  <thead>\n    <tr style=\"text-align: right;\">\n      <th></th>\n      <th>Name</th>\n      <th>affiliation</th>\n      <th>age</th>\n      <th>bounty</th>\n      <th>epithet</th>\n      <th>first</th>\n      <th>occupation</th>\n      <th>status</th>\n      <th>residence</th>\n      <th>dfname</th>\n    </tr>\n  </thead>\n  <tbody>\n    <tr>\n      <th>0</th>\n      <td>Shanks</td>\n      <td>Red Hair Pirates;[2] Four Emperors;[3] Roger P...</td>\n      <td>27 (Chapter 1); 37 (Chapter 1 to 597);[6] 39 (...</td>\n      <td>4,048,900,000[10]</td>\n      <td>\"Red-Haired Shanks\" (赤髪のシャンクス, Akagami no Shan...</td>\n      <td>Chapter 1; Episode 4[1]</td>\n      <td>Pirate Chief;[5] Apprentice (former)[4]</td>\n      <td>Alive</td>\n      <td>NaN</td>\n      <td>NaN</td>\n    </tr>\n    <tr>\n      <th>1</th>\n      <td>Benn Beckman</td>\n      <td>Red Hair Pirates[1]</td>\n      <td>38 (Chapter 1);48 (Chapter 1 to 597);50 (Chapt...</td>\n      <td>Unknown[5]</td>\n      <td>NaN</td>\n      <td>Chapter 1; Episode 4[1]</td>\n      <td>Pirate;[1] First Mate[2]</td>\n      <td>Alive</td>\n      <td>NaN</td>\n      <td>NaN</td>\n    </tr>\n    <tr>\n      <th>2</th>\n      <td>Lucky Roux</td>\n      <td>Red Hair Pirates[1]</td>\n      <td>23 (Chapter 1)33 (Chapter 1 to 597)35 (Chapter...</td>\n      <td>Unknown[2]</td>\n      <td>NaN</td>\n      <td>Chapter 1; Episode 4[1]</td>\n      <td>Pirate Officer[1]; Combatant[2]</td>\n      <td>Alive</td>\n      <td>NaN</td>\n      <td>NaN</td>\n    </tr>\n    <tr>\n      <th>3</th>\n      <td>Yasopp</td>\n      <td>Red Hair Pirates[1]</td>\n      <td>35 (Chapter 1);45 (Chapter 96 to 597)47 (Chapt...</td>\n      <td>Unknown[5]</td>\n      <td>\"Chaser\" (追擊者（チェイサー）, Cheisā?)[3]</td>\n      <td>Chapter 1; Episode 4[1]</td>\n      <td>Pirate Officer; Sniper[2]</td>\n      <td>Alive</td>\n      <td>NaN</td>\n      <td>NaN</td>\n    </tr>\n    <tr>\n      <th>4</th>\n      <td>Gol D. Roger</td>\n      <td>Roger Pirates[1]</td>\n      <td>NaN</td>\n      <td>5,564,800,000[5]</td>\n      <td>Gold Roger (ゴールド・ロジャー, Gōrudo Rojā?),[1]Pirate...</td>\n      <td>Chapter 1; We Are![1]</td>\n      <td>Pirate;[1] Captain</td>\n      <td>Deceased</td>\n      <td>Loguetown (former)</td>\n      <td>NaN</td>\n    </tr>\n  </tbody>\n</table>\n</div>"
     },
     "metadata": {},
     "execution_count": 15
    }
   ],
   "source": [
    "data.head()"
   ]
  },
  {
   "cell_type": "code",
   "execution_count": 16,
   "metadata": {},
   "outputs": [
    {
     "output_type": "execute_result",
     "data": {
      "text/plain": [
       "Alive        939\n",
       "Deceased      95\n",
       "Unknown       71\n",
       "Active         4\n",
       "Destroyed      1\n",
       "Name: status, dtype: int64"
      ]
     },
     "metadata": {},
     "execution_count": 16
    }
   ],
   "source": [
    "data['status'].value_counts()"
   ]
  },
  {
   "cell_type": "code",
   "execution_count": 17,
   "metadata": {},
   "outputs": [],
   "source": [
    "def get_last_known_bounty(row):\n",
    "    if type(row) == float:\n",
    "        return row\n",
    "    elif type(row) == str:\n",
    "        x = re.sub(r\"\\[.*?\\]\", \" \", row)\n",
    "        x = x.split(\" \")\n",
    "        ret = ''.join([n for n in x[0] if n.isdigit()])\n",
    "        if len(ret) ==0:\n",
    "            return np.nan\n",
    "        return int(ret)\n",
    "\n",
    "data['last_bounty'] = data['bounty'].apply(get_last_known_bounty)"
   ]
  },
  {
   "cell_type": "code",
   "execution_count": 18,
   "metadata": {},
   "outputs": [],
   "source": [
    "fig = px.histogram(data, x=\"last_bounty\", nbins = 100)"
   ]
  },
  {
   "cell_type": "code",
   "execution_count": 19,
   "metadata": {},
   "outputs": [
    {
     "output_type": "display_data",
     "data": {
      "application/vnd.plotly.v1+json": {
       "config": {
        "plotlyServerURL": "https://plot.ly"
       },
       "data": [
        {
         "alignmentgroup": "True",
         "bingroup": "x",
         "hovertemplate": "last_bounty=%{x}<br>count=%{y}<extra></extra>",
         "legendgroup": "",
         "marker": {
          "color": "#636efa"
         },
         "name": "",
         "nbinsx": 100,
         "offsetgroup": "",
         "orientation": "v",
         "showlegend": false,
         "type": "histogram",
         "x": [
          4048900000,
          null,
          null,
          null,
          5564800000,
          1500000000,
          66000000,
          null,
          null,
          null,
          null,
          null,
          null,
          null,
          8000000,
          1000000,
          5000000,
          null,
          null,
          null,
          null,
          320000000,
          null,
          null,
          null,
          null,
          null,
          null,
          null,
          null,
          null,
          15000000,
          null,
          null,
          null,
          null,
          null,
          null,
          null,
          null,
          null,
          null,
          null,
          null,
          null,
          null,
          null,
          null,
          null,
          null,
          null,
          16000000,
          null,
          200000000,
          null,
          null,
          null,
          null,
          9000000,
          7000000,
          7000000,
          null,
          null,
          null,
          null,
          20000000,
          null,
          null,
          330000000,
          null,
          null,
          null,
          17000000,
          12000000,
          null,
          null,
          null,
          null,
          null,
          null,
          null,
          null,
          null,
          null,
          8000000,
          5500000,
          9000000,
          null,
          null,
          null,
          null,
          null,
          null,
          null,
          null,
          null,
          null,
          null,
          null,
          null,
          null,
          null,
          null,
          null,
          null,
          null,
          null,
          null,
          null,
          null,
          null,
          null,
          null,
          null,
          null,
          null,
          null,
          null,
          null,
          null,
          null,
          null,
          null,
          null,
          null,
          null,
          null,
          null,
          null,
          10000000,
          7500000,
          null,
          130000000,
          null,
          100000000,
          null,
          100000000,
          null,
          24000000,
          29000000,
          null,
          null,
          32000000,
          null,
          null,
          null,
          null,
          null,
          null,
          2247600000,
          null,
          null,
          null,
          null,
          100,
          null,
          null,
          null,
          null,
          null,
          null,
          null,
          null,
          null,
          550000000,
          null,
          null,
          null,
          75000000,
          35000000,
          3200000,
          14000000,
          null,
          null,
          null,
          null,
          null,
          null,
          null,
          null,
          null,
          null,
          null,
          5046000000,
          null,
          null,
          null,
          null,
          null,
          null,
          null,
          null,
          null,
          null,
          null,
          null,
          null,
          null,
          null,
          null,
          null,
          null,
          null,
          null,
          null,
          null,
          null,
          null,
          null,
          null,
          null,
          null,
          null,
          null,
          null,
          null,
          null,
          null,
          null,
          null,
          null,
          null,
          23000000,
          42000000,
          195000000,
          38000000,
          null,
          null,
          null,
          null,
          null,
          null,
          null,
          null,
          null,
          null,
          null,
          36000000,
          25000000,
          null,
          null,
          null,
          340000000,
          296000000,
          null,
          null,
          null,
          94000000,
          null,
          null,
          null,
          null,
          null,
          null,
          null,
          null,
          null,
          null,
          null,
          null,
          null,
          null,
          null,
          null,
          null,
          null,
          null,
          null,
          null,
          null,
          null,
          null,
          null,
          null,
          null,
          null,
          null,
          null,
          null,
          null,
          null,
          null,
          null,
          null,
          null,
          null,
          null,
          null,
          null,
          null,
          null,
          null,
          null,
          null,
          null,
          null,
          null,
          null,
          24000000,
          null,
          null,
          null,
          null,
          null,
          null,
          null,
          null,
          null,
          null,
          null,
          null,
          null,
          null,
          null,
          null,
          null,
          null,
          null,
          null,
          null,
          36000000,
          null,
          null,
          null,
          null,
          null,
          null,
          null,
          null,
          null,
          null,
          null,
          null,
          null,
          null,
          null,
          null,
          null,
          null,
          null,
          94000000,
          null,
          null,
          null,
          null,
          null,
          null,
          null,
          null,
          null,
          null,
          null,
          null,
          null,
          null,
          null,
          null,
          null,
          null,
          null,
          null,
          null,
          null,
          null,
          null,
          null,
          null,
          null,
          null,
          null,
          null,
          null,
          null,
          null,
          null,
          null,
          null,
          null,
          null,
          null,
          null,
          79000000,
          null,
          null,
          null,
          null,
          null,
          null,
          null,
          null,
          null,
          null,
          null,
          null,
          null,
          4388000000,
          4611100000,
          null,
          null,
          null,
          null,
          null,
          null,
          null,
          null,
          null,
          null,
          null,
          83000000,
          null,
          null,
          null,
          null,
          null,
          null,
          null,
          null,
          null,
          null,
          null,
          null,
          null,
          null,
          null,
          320000000,
          null,
          null,
          null,
          null,
          null,
          null,
          null,
          null,
          null,
          null,
          null,
          null,
          24000000,
          null,
          null,
          null,
          null,
          null,
          null,
          null,
          null,
          null,
          null,
          null,
          null,
          null,
          null,
          null,
          60000000,
          null,
          null,
          350000000,
          350000000,
          470000000,
          200000000,
          108000000,
          320000000,
          500000000,
          500,
          null,
          140000000,
          222000000,
          null,
          null,
          null,
          null,
          null,
          null,
          null,
          null,
          null,
          null,
          null,
          null,
          null,
          17000000,
          null,
          null,
          null,
          null,
          null,
          null,
          null,
          null,
          null,
          null,
          null,
          null,
          3161000100,
          null,
          80000000,
          40000000,
          40000000,
          null,
          null,
          null,
          null,
          null,
          null,
          null,
          null,
          230000000,
          438000000,
          null,
          null,
          null,
          null,
          null,
          null,
          null,
          null,
          null,
          null,
          null,
          null,
          null,
          null,
          null,
          null,
          null,
          null,
          null,
          null,
          null,
          null,
          null,
          null,
          null,
          null,
          null,
          null,
          null,
          null,
          null,
          null,
          null,
          null,
          null,
          null,
          null,
          210000000,
          null,
          null,
          null,
          null,
          null,
          null,
          null,
          null,
          null,
          null,
          null,
          null,
          null,
          null,
          null,
          null,
          null,
          null,
          null,
          null,
          null,
          null,
          null,
          null,
          null,
          null,
          null,
          null,
          null,
          null,
          null,
          null,
          null,
          null,
          null,
          null,
          null,
          null,
          null,
          null,
          null,
          null,
          null,
          null,
          null,
          550000000,
          null,
          null,
          null,
          null,
          null,
          null,
          null,
          null,
          null,
          null,
          null,
          null,
          null,
          null,
          null,
          null,
          7800000,
          null,
          null,
          null,
          null,
          null,
          null,
          null,
          null,
          null,
          null,
          null,
          80060000,
          null,
          null,
          null,
          14300000,
          3400000,
          602000000,
          null,
          null,
          null,
          null,
          null,
          null,
          null,
          null,
          null,
          null,
          null,
          null,
          null,
          26000000,
          null,
          null,
          null,
          null,
          null,
          null,
          null,
          210000000,
          190000000,
          null,
          92000000,
          88000000,
          null,
          null,
          null,
          null,
          null,
          null,
          null,
          null,
          null,
          null,
          null,
          null,
          null,
          null,
          null,
          null,
          null,
          null,
          null,
          null,
          null,
          null,
          null,
          null,
          null,
          null,
          null,
          null,
          73000000,
          null,
          null,
          null,
          null,
          null,
          null,
          null,
          null,
          null,
          null,
          null,
          null,
          null,
          null,
          null,
          null,
          null,
          null,
          null,
          null,
          null,
          null,
          null,
          null,
          330000000,
          429000000,
          105500000,
          null,
          null,
          null,
          null,
          null,
          null,
          null,
          null,
          300000000,
          null,
          null,
          null,
          null,
          null,
          null,
          null,
          20000000,
          null,
          null,
          null,
          null,
          null,
          null,
          null,
          null,
          null,
          31000000,
          11000000,
          61000000,
          null,
          null,
          null,
          null,
          null,
          null,
          null,
          null,
          null,
          null,
          null,
          null,
          99000000,
          99000000,
          99000000,
          null,
          null,
          null,
          58000000,
          15000000,
          null,
          null,
          null,
          null,
          null,
          null,
          null,
          57000000,
          36000000,
          67000000,
          null,
          null,
          148000000,
          null,
          null,
          null,
          330000000,
          542000000,
          210000000,
          null,
          200000000,
          67000000,
          null,
          null,
          null,
          null,
          null,
          null,
          null,
          null,
          null,
          null,
          null,
          null,
          null,
          null,
          null,
          null,
          null,
          null,
          null,
          null,
          null,
          null,
          null,
          null,
          null,
          null,
          null,
          null,
          null,
          null,
          null,
          null,
          null,
          null,
          null,
          null,
          null,
          null,
          null,
          null,
          null,
          null,
          null,
          null,
          null,
          null,
          null,
          null,
          null,
          10000000,
          null,
          null,
          null,
          null,
          null,
          null,
          null,
          null,
          1000000000,
          480000000,
          null,
          null,
          null,
          null,
          null,
          null,
          null,
          null,
          null,
          null,
          382000000,
          null,
          null,
          null,
          null,
          null,
          null,
          null,
          null,
          null,
          null,
          null,
          null,
          null,
          95000000,
          null,
          null,
          null,
          null,
          null,
          null,
          null,
          90000000,
          null,
          null,
          null,
          null,
          null,
          null,
          null,
          null,
          null,
          null,
          null,
          null,
          null,
          120000000,
          null,
          null,
          null,
          null,
          null,
          null,
          null,
          null,
          null,
          null,
          null,
          700000000,
          null,
          null,
          860000000,
          null,
          null,
          null,
          null,
          null,
          null,
          null,
          null,
          null,
          null,
          null,
          null,
          null,
          null,
          null,
          null,
          null,
          null,
          null,
          null,
          932000000,
          null,
          null,
          null,
          null,
          null,
          null,
          null,
          null,
          null,
          null,
          1057000000,
          null,
          null,
          null,
          null,
          null,
          null,
          null,
          null,
          null,
          null,
          null,
          null,
          300000000,
          300000000,
          null,
          null,
          null,
          null,
          null,
          null,
          null,
          null,
          null,
          null,
          null,
          null,
          null,
          null,
          null,
          null,
          null,
          null,
          null,
          null,
          null,
          null,
          null,
          null,
          null,
          null,
          null,
          null,
          null,
          null,
          null,
          null,
          null,
          600000000,
          null,
          null,
          null,
          null,
          null,
          null,
          null,
          null,
          null,
          null,
          null,
          null,
          3450000,
          null,
          52000000,
          null,
          null,
          null,
          null,
          null,
          null,
          null,
          null,
          null,
          null,
          null,
          null,
          null,
          null,
          null,
          null,
          null,
          null,
          null,
          null,
          null,
          null,
          null,
          null,
          null,
          null,
          null,
          null,
          null,
          null,
          null,
          null,
          null,
          null,
          1320000000,
          null,
          null,
          null,
          null,
          null,
          null,
          null,
          null,
          null,
          null,
          null,
          null,
          null,
          null,
          null,
          null,
          null,
          null,
          null,
          null,
          null,
          null,
          null,
          null,
          null,
          null,
          null,
          null,
          null,
          null,
          null,
          null,
          null,
          null,
          null,
          null,
          null,
          null,
          null,
          null,
          null,
          null,
          null,
          null,
          null,
          null,
          null,
          null,
          null,
          null,
          null,
          null,
          24000000,
          null,
          null,
          null,
          null,
          null,
          null,
          null,
          null,
          null,
          null,
          null,
          null,
          null,
          null,
          null,
          null,
          null,
          null,
          null,
          null,
          null,
          null,
          null,
          null,
          null,
          null,
          null,
          null,
          null,
          null,
          null,
          null,
          null,
          null,
          null,
          null,
          null,
          null,
          null,
          null,
          null,
          null,
          null,
          null,
          null,
          null,
          null,
          null,
          null
         ],
         "xaxis": "x",
         "yaxis": "y"
        }
       ],
       "layout": {
        "barmode": "relative",
        "legend": {
         "tracegroupgap": 0
        },
        "margin": {
         "t": 60
        },
        "template": {
         "data": {
          "bar": [
           {
            "error_x": {
             "color": "#2a3f5f"
            },
            "error_y": {
             "color": "#2a3f5f"
            },
            "marker": {
             "line": {
              "color": "#E5ECF6",
              "width": 0.5
             }
            },
            "type": "bar"
           }
          ],
          "barpolar": [
           {
            "marker": {
             "line": {
              "color": "#E5ECF6",
              "width": 0.5
             }
            },
            "type": "barpolar"
           }
          ],
          "carpet": [
           {
            "aaxis": {
             "endlinecolor": "#2a3f5f",
             "gridcolor": "white",
             "linecolor": "white",
             "minorgridcolor": "white",
             "startlinecolor": "#2a3f5f"
            },
            "baxis": {
             "endlinecolor": "#2a3f5f",
             "gridcolor": "white",
             "linecolor": "white",
             "minorgridcolor": "white",
             "startlinecolor": "#2a3f5f"
            },
            "type": "carpet"
           }
          ],
          "choropleth": [
           {
            "colorbar": {
             "outlinewidth": 0,
             "ticks": ""
            },
            "type": "choropleth"
           }
          ],
          "contour": [
           {
            "colorbar": {
             "outlinewidth": 0,
             "ticks": ""
            },
            "colorscale": [
             [
              0,
              "#0d0887"
             ],
             [
              0.1111111111111111,
              "#46039f"
             ],
             [
              0.2222222222222222,
              "#7201a8"
             ],
             [
              0.3333333333333333,
              "#9c179e"
             ],
             [
              0.4444444444444444,
              "#bd3786"
             ],
             [
              0.5555555555555556,
              "#d8576b"
             ],
             [
              0.6666666666666666,
              "#ed7953"
             ],
             [
              0.7777777777777778,
              "#fb9f3a"
             ],
             [
              0.8888888888888888,
              "#fdca26"
             ],
             [
              1,
              "#f0f921"
             ]
            ],
            "type": "contour"
           }
          ],
          "contourcarpet": [
           {
            "colorbar": {
             "outlinewidth": 0,
             "ticks": ""
            },
            "type": "contourcarpet"
           }
          ],
          "heatmap": [
           {
            "colorbar": {
             "outlinewidth": 0,
             "ticks": ""
            },
            "colorscale": [
             [
              0,
              "#0d0887"
             ],
             [
              0.1111111111111111,
              "#46039f"
             ],
             [
              0.2222222222222222,
              "#7201a8"
             ],
             [
              0.3333333333333333,
              "#9c179e"
             ],
             [
              0.4444444444444444,
              "#bd3786"
             ],
             [
              0.5555555555555556,
              "#d8576b"
             ],
             [
              0.6666666666666666,
              "#ed7953"
             ],
             [
              0.7777777777777778,
              "#fb9f3a"
             ],
             [
              0.8888888888888888,
              "#fdca26"
             ],
             [
              1,
              "#f0f921"
             ]
            ],
            "type": "heatmap"
           }
          ],
          "heatmapgl": [
           {
            "colorbar": {
             "outlinewidth": 0,
             "ticks": ""
            },
            "colorscale": [
             [
              0,
              "#0d0887"
             ],
             [
              0.1111111111111111,
              "#46039f"
             ],
             [
              0.2222222222222222,
              "#7201a8"
             ],
             [
              0.3333333333333333,
              "#9c179e"
             ],
             [
              0.4444444444444444,
              "#bd3786"
             ],
             [
              0.5555555555555556,
              "#d8576b"
             ],
             [
              0.6666666666666666,
              "#ed7953"
             ],
             [
              0.7777777777777778,
              "#fb9f3a"
             ],
             [
              0.8888888888888888,
              "#fdca26"
             ],
             [
              1,
              "#f0f921"
             ]
            ],
            "type": "heatmapgl"
           }
          ],
          "histogram": [
           {
            "marker": {
             "colorbar": {
              "outlinewidth": 0,
              "ticks": ""
             }
            },
            "type": "histogram"
           }
          ],
          "histogram2d": [
           {
            "colorbar": {
             "outlinewidth": 0,
             "ticks": ""
            },
            "colorscale": [
             [
              0,
              "#0d0887"
             ],
             [
              0.1111111111111111,
              "#46039f"
             ],
             [
              0.2222222222222222,
              "#7201a8"
             ],
             [
              0.3333333333333333,
              "#9c179e"
             ],
             [
              0.4444444444444444,
              "#bd3786"
             ],
             [
              0.5555555555555556,
              "#d8576b"
             ],
             [
              0.6666666666666666,
              "#ed7953"
             ],
             [
              0.7777777777777778,
              "#fb9f3a"
             ],
             [
              0.8888888888888888,
              "#fdca26"
             ],
             [
              1,
              "#f0f921"
             ]
            ],
            "type": "histogram2d"
           }
          ],
          "histogram2dcontour": [
           {
            "colorbar": {
             "outlinewidth": 0,
             "ticks": ""
            },
            "colorscale": [
             [
              0,
              "#0d0887"
             ],
             [
              0.1111111111111111,
              "#46039f"
             ],
             [
              0.2222222222222222,
              "#7201a8"
             ],
             [
              0.3333333333333333,
              "#9c179e"
             ],
             [
              0.4444444444444444,
              "#bd3786"
             ],
             [
              0.5555555555555556,
              "#d8576b"
             ],
             [
              0.6666666666666666,
              "#ed7953"
             ],
             [
              0.7777777777777778,
              "#fb9f3a"
             ],
             [
              0.8888888888888888,
              "#fdca26"
             ],
             [
              1,
              "#f0f921"
             ]
            ],
            "type": "histogram2dcontour"
           }
          ],
          "mesh3d": [
           {
            "colorbar": {
             "outlinewidth": 0,
             "ticks": ""
            },
            "type": "mesh3d"
           }
          ],
          "parcoords": [
           {
            "line": {
             "colorbar": {
              "outlinewidth": 0,
              "ticks": ""
             }
            },
            "type": "parcoords"
           }
          ],
          "pie": [
           {
            "automargin": true,
            "type": "pie"
           }
          ],
          "scatter": [
           {
            "marker": {
             "colorbar": {
              "outlinewidth": 0,
              "ticks": ""
             }
            },
            "type": "scatter"
           }
          ],
          "scatter3d": [
           {
            "line": {
             "colorbar": {
              "outlinewidth": 0,
              "ticks": ""
             }
            },
            "marker": {
             "colorbar": {
              "outlinewidth": 0,
              "ticks": ""
             }
            },
            "type": "scatter3d"
           }
          ],
          "scattercarpet": [
           {
            "marker": {
             "colorbar": {
              "outlinewidth": 0,
              "ticks": ""
             }
            },
            "type": "scattercarpet"
           }
          ],
          "scattergeo": [
           {
            "marker": {
             "colorbar": {
              "outlinewidth": 0,
              "ticks": ""
             }
            },
            "type": "scattergeo"
           }
          ],
          "scattergl": [
           {
            "marker": {
             "colorbar": {
              "outlinewidth": 0,
              "ticks": ""
             }
            },
            "type": "scattergl"
           }
          ],
          "scattermapbox": [
           {
            "marker": {
             "colorbar": {
              "outlinewidth": 0,
              "ticks": ""
             }
            },
            "type": "scattermapbox"
           }
          ],
          "scatterpolar": [
           {
            "marker": {
             "colorbar": {
              "outlinewidth": 0,
              "ticks": ""
             }
            },
            "type": "scatterpolar"
           }
          ],
          "scatterpolargl": [
           {
            "marker": {
             "colorbar": {
              "outlinewidth": 0,
              "ticks": ""
             }
            },
            "type": "scatterpolargl"
           }
          ],
          "scatterternary": [
           {
            "marker": {
             "colorbar": {
              "outlinewidth": 0,
              "ticks": ""
             }
            },
            "type": "scatterternary"
           }
          ],
          "surface": [
           {
            "colorbar": {
             "outlinewidth": 0,
             "ticks": ""
            },
            "colorscale": [
             [
              0,
              "#0d0887"
             ],
             [
              0.1111111111111111,
              "#46039f"
             ],
             [
              0.2222222222222222,
              "#7201a8"
             ],
             [
              0.3333333333333333,
              "#9c179e"
             ],
             [
              0.4444444444444444,
              "#bd3786"
             ],
             [
              0.5555555555555556,
              "#d8576b"
             ],
             [
              0.6666666666666666,
              "#ed7953"
             ],
             [
              0.7777777777777778,
              "#fb9f3a"
             ],
             [
              0.8888888888888888,
              "#fdca26"
             ],
             [
              1,
              "#f0f921"
             ]
            ],
            "type": "surface"
           }
          ],
          "table": [
           {
            "cells": {
             "fill": {
              "color": "#EBF0F8"
             },
             "line": {
              "color": "white"
             }
            },
            "header": {
             "fill": {
              "color": "#C8D4E3"
             },
             "line": {
              "color": "white"
             }
            },
            "type": "table"
           }
          ]
         },
         "layout": {
          "annotationdefaults": {
           "arrowcolor": "#2a3f5f",
           "arrowhead": 0,
           "arrowwidth": 1
          },
          "autotypenumbers": "strict",
          "coloraxis": {
           "colorbar": {
            "outlinewidth": 0,
            "ticks": ""
           }
          },
          "colorscale": {
           "diverging": [
            [
             0,
             "#8e0152"
            ],
            [
             0.1,
             "#c51b7d"
            ],
            [
             0.2,
             "#de77ae"
            ],
            [
             0.3,
             "#f1b6da"
            ],
            [
             0.4,
             "#fde0ef"
            ],
            [
             0.5,
             "#f7f7f7"
            ],
            [
             0.6,
             "#e6f5d0"
            ],
            [
             0.7,
             "#b8e186"
            ],
            [
             0.8,
             "#7fbc41"
            ],
            [
             0.9,
             "#4d9221"
            ],
            [
             1,
             "#276419"
            ]
           ],
           "sequential": [
            [
             0,
             "#0d0887"
            ],
            [
             0.1111111111111111,
             "#46039f"
            ],
            [
             0.2222222222222222,
             "#7201a8"
            ],
            [
             0.3333333333333333,
             "#9c179e"
            ],
            [
             0.4444444444444444,
             "#bd3786"
            ],
            [
             0.5555555555555556,
             "#d8576b"
            ],
            [
             0.6666666666666666,
             "#ed7953"
            ],
            [
             0.7777777777777778,
             "#fb9f3a"
            ],
            [
             0.8888888888888888,
             "#fdca26"
            ],
            [
             1,
             "#f0f921"
            ]
           ],
           "sequentialminus": [
            [
             0,
             "#0d0887"
            ],
            [
             0.1111111111111111,
             "#46039f"
            ],
            [
             0.2222222222222222,
             "#7201a8"
            ],
            [
             0.3333333333333333,
             "#9c179e"
            ],
            [
             0.4444444444444444,
             "#bd3786"
            ],
            [
             0.5555555555555556,
             "#d8576b"
            ],
            [
             0.6666666666666666,
             "#ed7953"
            ],
            [
             0.7777777777777778,
             "#fb9f3a"
            ],
            [
             0.8888888888888888,
             "#fdca26"
            ],
            [
             1,
             "#f0f921"
            ]
           ]
          },
          "colorway": [
           "#636efa",
           "#EF553B",
           "#00cc96",
           "#ab63fa",
           "#FFA15A",
           "#19d3f3",
           "#FF6692",
           "#B6E880",
           "#FF97FF",
           "#FECB52"
          ],
          "font": {
           "color": "#2a3f5f"
          },
          "geo": {
           "bgcolor": "white",
           "lakecolor": "white",
           "landcolor": "#E5ECF6",
           "showlakes": true,
           "showland": true,
           "subunitcolor": "white"
          },
          "hoverlabel": {
           "align": "left"
          },
          "hovermode": "closest",
          "mapbox": {
           "style": "light"
          },
          "paper_bgcolor": "white",
          "plot_bgcolor": "#E5ECF6",
          "polar": {
           "angularaxis": {
            "gridcolor": "white",
            "linecolor": "white",
            "ticks": ""
           },
           "bgcolor": "#E5ECF6",
           "radialaxis": {
            "gridcolor": "white",
            "linecolor": "white",
            "ticks": ""
           }
          },
          "scene": {
           "xaxis": {
            "backgroundcolor": "#E5ECF6",
            "gridcolor": "white",
            "gridwidth": 2,
            "linecolor": "white",
            "showbackground": true,
            "ticks": "",
            "zerolinecolor": "white"
           },
           "yaxis": {
            "backgroundcolor": "#E5ECF6",
            "gridcolor": "white",
            "gridwidth": 2,
            "linecolor": "white",
            "showbackground": true,
            "ticks": "",
            "zerolinecolor": "white"
           },
           "zaxis": {
            "backgroundcolor": "#E5ECF6",
            "gridcolor": "white",
            "gridwidth": 2,
            "linecolor": "white",
            "showbackground": true,
            "ticks": "",
            "zerolinecolor": "white"
           }
          },
          "shapedefaults": {
           "line": {
            "color": "#2a3f5f"
           }
          },
          "ternary": {
           "aaxis": {
            "gridcolor": "white",
            "linecolor": "white",
            "ticks": ""
           },
           "baxis": {
            "gridcolor": "white",
            "linecolor": "white",
            "ticks": ""
           },
           "bgcolor": "#E5ECF6",
           "caxis": {
            "gridcolor": "white",
            "linecolor": "white",
            "ticks": ""
           }
          },
          "title": {
           "x": 0.05
          },
          "xaxis": {
           "automargin": true,
           "gridcolor": "white",
           "linecolor": "white",
           "ticks": "",
           "title": {
            "standoff": 15
           },
           "zerolinecolor": "white",
           "zerolinewidth": 2
          },
          "yaxis": {
           "automargin": true,
           "gridcolor": "white",
           "linecolor": "white",
           "ticks": "",
           "title": {
            "standoff": 15
           },
           "zerolinecolor": "white",
           "zerolinewidth": 2
          }
         }
        },
        "xaxis": {
         "anchor": "y",
         "domain": [
          0,
          1
         ],
         "title": {
          "text": "last_bounty"
         }
        },
        "yaxis": {
         "anchor": "x",
         "domain": [
          0,
          1
         ],
         "title": {
          "text": "count"
         }
        }
       }
      }
     },
     "metadata": {}
    }
   ],
   "source": [
    "fig.show()"
   ]
  },
  {
   "cell_type": "code",
   "execution_count": 20,
   "metadata": {},
   "outputs": [],
   "source": [
    "def get_latest_age(row):\n",
    "    if type(row) == str:\n",
    "        x = re.sub(r\"\\[.*?\\]\", \" \", row)\n",
    "        x = re.sub(r\"\\(.*?\\)\", \" \", x)\n",
    "        x = x.replace(\";\", \"\")\n",
    "        x = x.split(\" \")\n",
    "        \n",
    "        ret = ' '.join([n for n in x if n.isdigit()])\n",
    "        ret = ret.split(\" \")\n",
    "        newret = []\n",
    "        for i in ret:\n",
    "            try:\n",
    "                newret.append(int(i))\n",
    "            except:\n",
    "                newret.append(i)\n",
    "\n",
    "        return (max(newret))\n",
    "\n",
    "def get_main_crew(row):\n",
    "    if type(row) == str:\n",
    "        x = re.sub(r\"\\[.*?\\]\", \" \", row)\n",
    "        x = re.sub(r\"\\(.*?\\)\", \" \", x)\n",
    "        x = x.split(\";\")\n",
    "        # x = x.split(\"\")\n",
    "        return x[0]\n",
    "\n",
    "data['main_crew'] = data['affiliation'].apply(get_main_crew)\n",
    "data['latest_age'] = data['age'].apply(get_latest_age)\n",
    "data['latest_age']= data['latest_age'].fillna(value=np.nan)\n",
    "# data.head(10)"
   ]
  },
  {
   "cell_type": "code",
   "execution_count": 21,
   "metadata": {},
   "outputs": [
    {
     "output_type": "stream",
     "name": "stderr",
     "text": [
      "<ipython-input-21-2d76fe4d423c>:2: SettingWithCopyWarning:\n\n\nA value is trying to be set on a copy of a slice from a DataFrame.\nTry using .loc[row_indexer,col_indexer] = value instead\n\nSee the caveats in the documentation: https://pandas.pydata.org/pandas-docs/stable/user_guide/indexing.html#returning-a-view-versus-a-copy\n\n"
     ]
    },
    {
     "output_type": "display_data",
     "data": {
      "application/vnd.plotly.v1+json": {
       "config": {
        "plotlyServerURL": "https://plot.ly"
       },
       "data": [
        {
         "hovertemplate": "color=Shanks<br>x=%{x}<br>y=%{y}<extra></extra>",
         "legendgroup": "Shanks",
         "marker": {
          "color": "#636efa",
          "symbol": "circle"
         },
         "mode": "markers",
         "name": "Shanks",
         "orientation": "v",
         "showlegend": true,
         "type": "scatter",
         "x": [
          39
         ],
         "xaxis": "x",
         "y": [
          4048900000
         ],
         "yaxis": "y"
        },
        {
         "hovertemplate": "color=Monkey D. Luffy<br>x=%{x}<br>y=%{y}<extra></extra>",
         "legendgroup": "Monkey D. Luffy",
         "marker": {
          "color": "#EF553B",
          "symbol": "circle"
         },
         "mode": "markers",
         "name": "Monkey D. Luffy",
         "orientation": "v",
         "showlegend": true,
         "type": "scatter",
         "x": [
          19
         ],
         "xaxis": "x",
         "y": [
          1500000000
         ],
         "yaxis": "y"
        },
        {
         "hovertemplate": "color=Nami<br>x=%{x}<br>y=%{y}<extra></extra>",
         "legendgroup": "Nami",
         "marker": {
          "color": "#00cc96",
          "symbol": "circle"
         },
         "mode": "markers",
         "name": "Nami",
         "orientation": "v",
         "showlegend": true,
         "type": "scatter",
         "x": [
          20
         ],
         "xaxis": "x",
         "y": [
          66000000
         ],
         "yaxis": "y"
        },
        {
         "hovertemplate": "color=Alvida<br>x=%{x}<br>y=%{y}<extra></extra>",
         "legendgroup": "Alvida",
         "marker": {
          "color": "#ab63fa",
          "symbol": "circle"
         },
         "mode": "markers",
         "name": "Alvida",
         "orientation": "v",
         "showlegend": true,
         "type": "scatter",
         "x": [
          27
         ],
         "xaxis": "x",
         "y": [
          5000000
         ],
         "yaxis": "y"
        },
        {
         "hovertemplate": "color=Roronoa Zoro<br>x=%{x}<br>y=%{y}<extra></extra>",
         "legendgroup": "Roronoa Zoro",
         "marker": {
          "color": "#FFA15A",
          "symbol": "circle"
         },
         "mode": "markers",
         "name": "Roronoa Zoro",
         "orientation": "v",
         "showlegend": true,
         "type": "scatter",
         "x": [
          21
         ],
         "xaxis": "x",
         "y": [
          320000000
         ],
         "yaxis": "y"
        },
        {
         "hovertemplate": "color=Buggy<br>x=%{x}<br>y=%{y}<extra></extra>",
         "legendgroup": "Buggy",
         "marker": {
          "color": "#19d3f3",
          "symbol": "circle"
         },
         "mode": "markers",
         "name": "Buggy",
         "orientation": "v",
         "showlegend": true,
         "type": "scatter",
         "x": [
          39
         ],
         "xaxis": "x",
         "y": [
          15000000
         ],
         "yaxis": "y"
        },
        {
         "hovertemplate": "color=Kuro<br>x=%{x}<br>y=%{y}<extra></extra>",
         "legendgroup": "Kuro",
         "marker": {
          "color": "#FF6692",
          "symbol": "circle"
         },
         "mode": "markers",
         "name": "Kuro",
         "orientation": "v",
         "showlegend": true,
         "type": "scatter",
         "x": [
          35
         ],
         "xaxis": "x",
         "y": [
          16000000
         ],
         "yaxis": "y"
        },
        {
         "hovertemplate": "color=Usopp<br>x=%{x}<br>y=%{y}<extra></extra>",
         "legendgroup": "Usopp",
         "marker": {
          "color": "#B6E880",
          "symbol": "circle"
         },
         "mode": "markers",
         "name": "Usopp",
         "orientation": "v",
         "showlegend": true,
         "type": "scatter",
         "x": [
          19
         ],
         "xaxis": "x",
         "y": [
          200000000
         ],
         "yaxis": "y"
        },
        {
         "hovertemplate": "color=Jango<br>x=%{x}<br>y=%{y}<extra></extra>",
         "legendgroup": "Jango",
         "marker": {
          "color": "#FF97FF",
          "symbol": "circle"
         },
         "mode": "markers",
         "name": "Jango",
         "orientation": "v",
         "showlegend": true,
         "type": "scatter",
         "x": [
          29
         ],
         "xaxis": "x",
         "y": [
          9000000
         ],
         "yaxis": "y"
        },
        {
         "hovertemplate": "color=Buchi<br>x=%{x}<br>y=%{y}<extra></extra>",
         "legendgroup": "Buchi",
         "marker": {
          "color": "#FECB52",
          "symbol": "circle"
         },
         "mode": "markers",
         "name": "Buchi",
         "orientation": "v",
         "showlegend": true,
         "type": "scatter",
         "x": [
          23
         ],
         "xaxis": "x",
         "y": [
          7000000
         ],
         "yaxis": "y"
        },
        {
         "hovertemplate": "color=Sham<br>x=%{x}<br>y=%{y}<extra></extra>",
         "legendgroup": "Sham",
         "marker": {
          "color": "#636efa",
          "symbol": "circle"
         },
         "mode": "markers",
         "name": "Sham",
         "orientation": "v",
         "showlegend": true,
         "type": "scatter",
         "x": [
          23
         ],
         "xaxis": "x",
         "y": [
          7000000
         ],
         "yaxis": "y"
        },
        {
         "hovertemplate": "color=Arlong<br>x=%{x}<br>y=%{y}<extra></extra>",
         "legendgroup": "Arlong",
         "marker": {
          "color": "#EF553B",
          "symbol": "circle"
         },
         "mode": "markers",
         "name": "Arlong",
         "orientation": "v",
         "showlegend": true,
         "type": "scatter",
         "x": [
          41
         ],
         "xaxis": "x",
         "y": [
          20000000
         ],
         "yaxis": "y"
        },
        {
         "hovertemplate": "color=Sanji<br>x=%{x}<br>y=%{y}<extra></extra>",
         "legendgroup": "Sanji",
         "marker": {
          "color": "#00cc96",
          "symbol": "circle"
         },
         "mode": "markers",
         "name": "Sanji",
         "orientation": "v",
         "showlegend": true,
         "type": "scatter",
         "x": [
          21
         ],
         "xaxis": "x",
         "y": [
          330000000
         ],
         "yaxis": "y"
        },
        {
         "hovertemplate": "color=Krieg<br>x=%{x}<br>y=%{y}<extra></extra>",
         "legendgroup": "Krieg",
         "marker": {
          "color": "#ab63fa",
          "symbol": "circle"
         },
         "mode": "markers",
         "name": "Krieg",
         "orientation": "v",
         "showlegend": true,
         "type": "scatter",
         "x": [
          44
         ],
         "xaxis": "x",
         "y": [
          17000000
         ],
         "yaxis": "y"
        },
        {
         "hovertemplate": "color=Gin<br>x=%{x}<br>y=%{y}<extra></extra>",
         "legendgroup": "Gin",
         "marker": {
          "color": "#FFA15A",
          "symbol": "circle"
         },
         "mode": "markers",
         "name": "Gin",
         "orientation": "v",
         "showlegend": true,
         "type": "scatter",
         "x": [
          27
         ],
         "xaxis": "x",
         "y": [
          12000000
         ],
         "yaxis": "y"
        },
        {
         "hovertemplate": "color=Hatchan<br>x=%{x}<br>y=%{y}<extra></extra>",
         "legendgroup": "Hatchan",
         "marker": {
          "color": "#19d3f3",
          "symbol": "circle"
         },
         "mode": "markers",
         "name": "Hatchan",
         "orientation": "v",
         "showlegend": true,
         "type": "scatter",
         "x": [
          38
         ],
         "xaxis": "x",
         "y": [
          8000000
         ],
         "yaxis": "y"
        },
        {
         "hovertemplate": "color=Chew<br>x=%{x}<br>y=%{y}<extra></extra>",
         "legendgroup": "Chew",
         "marker": {
          "color": "#FF6692",
          "symbol": "circle"
         },
         "mode": "markers",
         "name": "Chew",
         "orientation": "v",
         "showlegend": true,
         "type": "scatter",
         "x": [
          35
         ],
         "xaxis": "x",
         "y": [
          5500000
         ],
         "yaxis": "y"
        },
        {
         "hovertemplate": "color=Kuroobi<br>x=%{x}<br>y=%{y}<extra></extra>",
         "legendgroup": "Kuroobi",
         "marker": {
          "color": "#B6E880",
          "symbol": "circle"
         },
         "mode": "markers",
         "name": "Kuroobi",
         "orientation": "v",
         "showlegend": true,
         "type": "scatter",
         "x": [
          38
         ],
         "xaxis": "x",
         "y": [
          9000000
         ],
         "yaxis": "y"
        },
        {
         "hovertemplate": "color=Gem<br>x=%{x}<br>y=%{y}<extra></extra>",
         "legendgroup": "Gem",
         "marker": {
          "color": "#FF97FF",
          "symbol": "circle"
         },
         "mode": "markers",
         "name": "Gem",
         "orientation": "v",
         "showlegend": true,
         "type": "scatter",
         "x": [
          26
         ],
         "xaxis": "x",
         "y": [
          10000000
         ],
         "yaxis": "y"
        },
        {
         "hovertemplate": "color=Mikita<br>x=%{x}<br>y=%{y}<extra></extra>",
         "legendgroup": "Mikita",
         "marker": {
          "color": "#FECB52",
          "symbol": "circle"
         },
         "mode": "markers",
         "name": "Mikita",
         "orientation": "v",
         "showlegend": true,
         "type": "scatter",
         "x": [
          24
         ],
         "xaxis": "x",
         "y": [
          7500000
         ],
         "yaxis": "y"
        },
        {
         "hovertemplate": "color=Nico Robin<br>x=%{x}<br>y=%{y}<extra></extra>",
         "legendgroup": "Nico Robin",
         "marker": {
          "color": "#636efa",
          "symbol": "circle"
         },
         "mode": "markers",
         "name": "Nico Robin",
         "orientation": "v",
         "showlegend": true,
         "type": "scatter",
         "x": [
          30
         ],
         "xaxis": "x",
         "y": [
          130000000
         ],
         "yaxis": "y"
        },
        {
         "hovertemplate": "color=Brogy<br>x=%{x}<br>y=%{y}<extra></extra>",
         "legendgroup": "Brogy",
         "marker": {
          "color": "#EF553B",
          "symbol": "circle"
         },
         "mode": "markers",
         "name": "Brogy",
         "orientation": "v",
         "showlegend": true,
         "type": "scatter",
         "x": [
          160
         ],
         "xaxis": "x",
         "y": [
          100000000
         ],
         "yaxis": "y"
        },
        {
         "hovertemplate": "color=Dorry<br>x=%{x}<br>y=%{y}<extra></extra>",
         "legendgroup": "Dorry",
         "marker": {
          "color": "#00cc96",
          "symbol": "circle"
         },
         "mode": "markers",
         "name": "Dorry",
         "orientation": "v",
         "showlegend": true,
         "type": "scatter",
         "x": [
          160
         ],
         "xaxis": "x",
         "y": [
          100000000
         ],
         "yaxis": "y"
        },
        {
         "hovertemplate": "color=Galdino<br>x=%{x}<br>y=%{y}<extra></extra>",
         "legendgroup": "Galdino",
         "marker": {
          "color": "#ab63fa",
          "symbol": "circle"
         },
         "mode": "markers",
         "name": "Galdino",
         "orientation": "v",
         "showlegend": true,
         "type": "scatter",
         "x": [
          37
         ],
         "xaxis": "x",
         "y": [
          24000000
         ],
         "yaxis": "y"
        },
        {
         "hovertemplate": "color=Marianne<br>x=%{x}<br>y=%{y}<extra></extra>",
         "legendgroup": "Marianne",
         "marker": {
          "color": "#FFA15A",
          "symbol": "circle"
         },
         "mode": "markers",
         "name": "Marianne",
         "orientation": "v",
         "showlegend": true,
         "type": "scatter",
         "x": [
          18
         ],
         "xaxis": "x",
         "y": [
          29000000
         ],
         "yaxis": "y"
        },
        {
         "hovertemplate": "color=Bentham<br>x=%{x}<br>y=%{y}<extra></extra>",
         "legendgroup": "Bentham",
         "marker": {
          "color": "#19d3f3",
          "symbol": "circle"
         },
         "mode": "markers",
         "name": "Bentham",
         "orientation": "v",
         "showlegend": true,
         "type": "scatter",
         "x": [
          32
         ],
         "xaxis": "x",
         "y": [
          32000000
         ],
         "yaxis": "y"
        },
        {
         "hovertemplate": "color=Marshall D. Teach<br>x=%{x}<br>y=%{y}<extra></extra>",
         "legendgroup": "Marshall D. Teach",
         "marker": {
          "color": "#FF6692",
          "symbol": "circle"
         },
         "mode": "markers",
         "name": "Marshall D. Teach",
         "orientation": "v",
         "showlegend": true,
         "type": "scatter",
         "x": [
          40
         ],
         "xaxis": "x",
         "y": [
          2247600000
         ],
         "yaxis": "y"
        },
        {
         "hovertemplate": "color=Tony Tony Chopper<br>x=%{x}<br>y=%{y}<extra></extra>",
         "legendgroup": "Tony Tony Chopper",
         "marker": {
          "color": "#B6E880",
          "symbol": "circle"
         },
         "mode": "markers",
         "name": "Tony Tony Chopper",
         "orientation": "v",
         "showlegend": true,
         "type": "scatter",
         "x": [
          17
         ],
         "xaxis": "x",
         "y": [
          100
         ],
         "yaxis": "y"
        },
        {
         "hovertemplate": "color=Daz Bonez<br>x=%{x}<br>y=%{y}<extra></extra>",
         "legendgroup": "Daz Bonez",
         "marker": {
          "color": "#FF97FF",
          "symbol": "circle"
         },
         "mode": "markers",
         "name": "Daz Bonez",
         "orientation": "v",
         "showlegend": true,
         "type": "scatter",
         "x": [
          31
         ],
         "xaxis": "x",
         "y": [
          75000000
         ],
         "yaxis": "y"
        },
        {
         "hovertemplate": "color=Zala<br>x=%{x}<br>y=%{y}<extra></extra>",
         "legendgroup": "Zala",
         "marker": {
          "color": "#FECB52",
          "symbol": "circle"
         },
         "mode": "markers",
         "name": "Zala",
         "orientation": "v",
         "showlegend": true,
         "type": "scatter",
         "x": [
          28
         ],
         "xaxis": "x",
         "y": [
          35000000
         ],
         "yaxis": "y"
        },
        {
         "hovertemplate": "color=Babe<br>x=%{x}<br>y=%{y}<extra></extra>",
         "legendgroup": "Babe",
         "marker": {
          "color": "#636efa",
          "symbol": "circle"
         },
         "mode": "markers",
         "name": "Babe",
         "orientation": "v",
         "showlegend": true,
         "type": "scatter",
         "x": [
          30
         ],
         "xaxis": "x",
         "y": [
          3200000
         ],
         "yaxis": "y"
        },
        {
         "hovertemplate": "color=Drophy<br>x=%{x}<br>y=%{y}<extra></extra>",
         "legendgroup": "Drophy",
         "marker": {
          "color": "#EF553B",
          "symbol": "circle"
         },
         "mode": "markers",
         "name": "Drophy",
         "orientation": "v",
         "showlegend": true,
         "type": "scatter",
         "x": [
          51
         ],
         "xaxis": "x",
         "y": [
          14000000
         ],
         "yaxis": "y"
        },
        {
         "hovertemplate": "color=Masira<br>x=%{x}<br>y=%{y}<extra></extra>",
         "legendgroup": "Masira",
         "marker": {
          "color": "#00cc96",
          "symbol": "circle"
         },
         "mode": "markers",
         "name": "Masira",
         "orientation": "v",
         "showlegend": true,
         "type": "scatter",
         "x": [
          25
         ],
         "xaxis": "x",
         "y": [
          23000000
         ],
         "yaxis": "y"
        },
        {
         "hovertemplate": "color=Bellamy<br>x=%{x}<br>y=%{y}<extra></extra>",
         "legendgroup": "Bellamy",
         "marker": {
          "color": "#ab63fa",
          "symbol": "circle"
         },
         "mode": "markers",
         "name": "Bellamy",
         "orientation": "v",
         "showlegend": true,
         "type": "scatter",
         "x": [
          27
         ],
         "xaxis": "x",
         "y": [
          195000000
         ],
         "yaxis": "y"
        },
        {
         "hovertemplate": "color=Sarquiss<br>x=%{x}<br>y=%{y}<extra></extra>",
         "legendgroup": "Sarquiss",
         "marker": {
          "color": "#FFA15A",
          "symbol": "circle"
         },
         "mode": "markers",
         "name": "Sarquiss",
         "orientation": "v",
         "showlegend": true,
         "type": "scatter",
         "x": [
          27
         ],
         "xaxis": "x",
         "y": [
          38000000
         ],
         "yaxis": "y"
        },
        {
         "hovertemplate": "color=Shoujou<br>x=%{x}<br>y=%{y}<extra></extra>",
         "legendgroup": "Shoujou",
         "marker": {
          "color": "#19d3f3",
          "symbol": "circle"
         },
         "mode": "markers",
         "name": "Shoujou",
         "orientation": "v",
         "showlegend": true,
         "type": "scatter",
         "x": [
          27
         ],
         "xaxis": "x",
         "y": [
          36000000
         ],
         "yaxis": "y"
        },
        {
         "hovertemplate": "color=Mont Blanc Cricket<br>x=%{x}<br>y=%{y}<extra></extra>",
         "legendgroup": "Mont Blanc Cricket",
         "marker": {
          "color": "#FF6692",
          "symbol": "circle"
         },
         "mode": "markers",
         "name": "Mont Blanc Cricket",
         "orientation": "v",
         "showlegend": true,
         "type": "scatter",
         "x": [
          43
         ],
         "xaxis": "x",
         "y": [
          25000000
         ],
         "yaxis": "y"
        },
        {
         "hovertemplate": "color=Donquixote Doflamingo<br>x=%{x}<br>y=%{y}<extra></extra>",
         "legendgroup": "Donquixote Doflamingo",
         "marker": {
          "color": "#B6E880",
          "symbol": "circle"
         },
         "mode": "markers",
         "name": "Donquixote Doflamingo",
         "orientation": "v",
         "showlegend": true,
         "type": "scatter",
         "x": [
          41
         ],
         "xaxis": "x",
         "y": [
          340000000
         ],
         "yaxis": "y"
        },
        {
         "hovertemplate": "color=Bartholomew Kuma<br>x=%{x}<br>y=%{y}<extra></extra>",
         "legendgroup": "Bartholomew Kuma",
         "marker": {
          "color": "#FF97FF",
          "symbol": "circle"
         },
         "mode": "markers",
         "name": "Bartholomew Kuma",
         "orientation": "v",
         "showlegend": true,
         "type": "scatter",
         "x": [
          47
         ],
         "xaxis": "x",
         "y": [
          296000000
         ],
         "yaxis": "y"
        },
        {
         "hovertemplate": "color=Foxy<br>x=%{x}<br>y=%{y}<extra></extra>",
         "legendgroup": "Foxy",
         "marker": {
          "color": "#FECB52",
          "symbol": "circle"
         },
         "mode": "markers",
         "name": "Foxy",
         "orientation": "v",
         "showlegend": true,
         "type": "scatter",
         "x": [
          38
         ],
         "xaxis": "x",
         "y": [
          24000000
         ],
         "yaxis": "y"
        },
        {
         "hovertemplate": "color=Franky<br>x=%{x}<br>y=%{y}<extra></extra>",
         "legendgroup": "Franky",
         "marker": {
          "color": "#636efa",
          "symbol": "circle"
         },
         "mode": "markers",
         "name": "Franky",
         "orientation": "v",
         "showlegend": true,
         "type": "scatter",
         "x": [
          36
         ],
         "xaxis": "x",
         "y": [
          94000000
         ],
         "yaxis": "y"
        },
        {
         "hovertemplate": "color=Charlotte Linlin<br>x=%{x}<br>y=%{y}<extra></extra>",
         "legendgroup": "Charlotte Linlin",
         "marker": {
          "color": "#EF553B",
          "symbol": "circle"
         },
         "mode": "markers",
         "name": "Charlotte Linlin",
         "orientation": "v",
         "showlegend": true,
         "type": "scatter",
         "x": [
          68
         ],
         "xaxis": "x",
         "y": [
          4388000000
         ],
         "yaxis": "y"
        },
        {
         "hovertemplate": "color=Brook<br>x=%{x}<br>y=%{y}<extra></extra>",
         "legendgroup": "Brook",
         "marker": {
          "color": "#00cc96",
          "symbol": "circle"
         },
         "mode": "markers",
         "name": "Brook",
         "orientation": "v",
         "showlegend": true,
         "type": "scatter",
         "x": [
          90
         ],
         "xaxis": "x",
         "y": [
          83000000
         ],
         "yaxis": "y"
        },
        {
         "hovertemplate": "color=Gecko Moria<br>x=%{x}<br>y=%{y}<extra></extra>",
         "legendgroup": "Gecko Moria",
         "marker": {
          "color": "#ab63fa",
          "symbol": "circle"
         },
         "mode": "markers",
         "name": "Gecko Moria",
         "orientation": "v",
         "showlegend": true,
         "type": "scatter",
         "x": [
          50
         ],
         "xaxis": "x",
         "y": [
          320000000
         ],
         "yaxis": "y"
        },
        {
         "hovertemplate": "color=Charlotte Lola<br>x=%{x}<br>y=%{y}<extra></extra>",
         "legendgroup": "Charlotte Lola",
         "marker": {
          "color": "#FFA15A",
          "symbol": "circle"
         },
         "mode": "markers",
         "name": "Charlotte Lola",
         "orientation": "v",
         "showlegend": true,
         "type": "scatter",
         "x": [
          26,
          26
         ],
         "xaxis": "x",
         "y": [
          24000000,
          24000000
         ],
         "yaxis": "y"
        },
        {
         "hovertemplate": "color=Capone Bege<br>x=%{x}<br>y=%{y}<extra></extra>",
         "legendgroup": "Capone Bege",
         "marker": {
          "color": "#19d3f3",
          "symbol": "circle"
         },
         "mode": "markers",
         "name": "Capone Bege",
         "orientation": "v",
         "showlegend": true,
         "type": "scatter",
         "x": [
          42
         ],
         "xaxis": "x",
         "y": [
          350000000
         ],
         "yaxis": "y"
        },
        {
         "hovertemplate": "color=Scratchmen Apoo<br>x=%{x}<br>y=%{y}<extra></extra>",
         "legendgroup": "Scratchmen Apoo",
         "marker": {
          "color": "#FF6692",
          "symbol": "circle"
         },
         "mode": "markers",
         "name": "Scratchmen Apoo",
         "orientation": "v",
         "showlegend": true,
         "type": "scatter",
         "x": [
          31
         ],
         "xaxis": "x",
         "y": [
          350000000
         ],
         "yaxis": "y"
        },
        {
         "hovertemplate": "color=Eustass Kid<br>x=%{x}<br>y=%{y}<extra></extra>",
         "legendgroup": "Eustass Kid",
         "marker": {
          "color": "#B6E880",
          "symbol": "circle"
         },
         "mode": "markers",
         "name": "Eustass Kid",
         "orientation": "v",
         "showlegend": true,
         "type": "scatter",
         "x": [
          23
         ],
         "xaxis": "x",
         "y": [
          470000000
         ],
         "yaxis": "y"
        },
        {
         "hovertemplate": "color=Killer<br>x=%{x}<br>y=%{y}<extra></extra>",
         "legendgroup": "Killer",
         "marker": {
          "color": "#FF97FF",
          "symbol": "circle"
         },
         "mode": "markers",
         "name": "Killer",
         "orientation": "v",
         "showlegend": true,
         "type": "scatter",
         "x": [
          27
         ],
         "xaxis": "x",
         "y": [
          200000000
         ],
         "yaxis": "y"
        },
        {
         "hovertemplate": "color=Urouge<br>x=%{x}<br>y=%{y}<extra></extra>",
         "legendgroup": "Urouge",
         "marker": {
          "color": "#FECB52",
          "symbol": "circle"
         },
         "mode": "markers",
         "name": "Urouge",
         "orientation": "v",
         "showlegend": true,
         "type": "scatter",
         "x": [
          47
         ],
         "xaxis": "x",
         "y": [
          108000000
         ],
         "yaxis": "y"
        },
        {
         "hovertemplate": "color=Basil Hawkins<br>x=%{x}<br>y=%{y}<extra></extra>",
         "legendgroup": "Basil Hawkins",
         "marker": {
          "color": "#636efa",
          "symbol": "circle"
         },
         "mode": "markers",
         "name": "Basil Hawkins",
         "orientation": "v",
         "showlegend": true,
         "type": "scatter",
         "x": [
          31
         ],
         "xaxis": "x",
         "y": [
          320000000
         ],
         "yaxis": "y"
        },
        {
         "hovertemplate": "color=Trafalgar D. Water Law<br>x=%{x}<br>y=%{y}<extra></extra>",
         "legendgroup": "Trafalgar D. Water Law",
         "marker": {
          "color": "#EF553B",
          "symbol": "circle"
         },
         "mode": "markers",
         "name": "Trafalgar D. Water Law",
         "orientation": "v",
         "showlegend": true,
         "type": "scatter",
         "x": [
          26
         ],
         "xaxis": "x",
         "y": [
          500000000
         ],
         "yaxis": "y"
        },
        {
         "hovertemplate": "color=Bepo<br>x=%{x}<br>y=%{y}<extra></extra>",
         "legendgroup": "Bepo",
         "marker": {
          "color": "#00cc96",
          "symbol": "circle"
         },
         "mode": "markers",
         "name": "Bepo",
         "orientation": "v",
         "showlegend": true,
         "type": "scatter",
         "x": [
          22
         ],
         "xaxis": "x",
         "y": [
          500
         ],
         "yaxis": "y"
        },
        {
         "hovertemplate": "color=Jewelry Bonney<br>x=%{x}<br>y=%{y}<extra></extra>",
         "legendgroup": "Jewelry Bonney",
         "marker": {
          "color": "#ab63fa",
          "symbol": "circle"
         },
         "mode": "markers",
         "name": "Jewelry Bonney",
         "orientation": "v",
         "showlegend": true,
         "type": "scatter",
         "x": [
          24
         ],
         "xaxis": "x",
         "y": [
          140000000
         ],
         "yaxis": "y"
        },
        {
         "hovertemplate": "color=X Drake<br>x=%{x}<br>y=%{y}<extra></extra>",
         "legendgroup": "X Drake",
         "marker": {
          "color": "#FFA15A",
          "symbol": "circle"
         },
         "mode": "markers",
         "name": "X Drake",
         "orientation": "v",
         "showlegend": true,
         "type": "scatter",
         "x": [
          33
         ],
         "xaxis": "x",
         "y": [
          222000000
         ],
         "yaxis": "y"
        },
        {
         "hovertemplate": "color=Boa Hancock<br>x=%{x}<br>y=%{y}<extra></extra>",
         "legendgroup": "Boa Hancock",
         "marker": {
          "color": "#19d3f3",
          "symbol": "circle"
         },
         "mode": "markers",
         "name": "Boa Hancock",
         "orientation": "v",
         "showlegend": true,
         "type": "scatter",
         "x": [
          31
         ],
         "xaxis": "x",
         "y": [
          80000000
         ],
         "yaxis": "y"
        },
        {
         "hovertemplate": "color=Boa Marigold<br>x=%{x}<br>y=%{y}<extra></extra>",
         "legendgroup": "Boa Marigold",
         "marker": {
          "color": "#FF6692",
          "symbol": "circle"
         },
         "mode": "markers",
         "name": "Boa Marigold",
         "orientation": "v",
         "showlegend": true,
         "type": "scatter",
         "x": [
          28
         ],
         "xaxis": "x",
         "y": [
          40000000
         ],
         "yaxis": "y"
        },
        {
         "hovertemplate": "color=Boa Sandersonia<br>x=%{x}<br>y=%{y}<extra></extra>",
         "legendgroup": "Boa Sandersonia",
         "marker": {
          "color": "#B6E880",
          "symbol": "circle"
         },
         "mode": "markers",
         "name": "Boa Sandersonia",
         "orientation": "v",
         "showlegend": true,
         "type": "scatter",
         "x": [
          30
         ],
         "xaxis": "x",
         "y": [
          40000000
         ],
         "yaxis": "y"
        },
        {
         "hovertemplate": "color=Jinbe<br>x=%{x}<br>y=%{y}<extra></extra>",
         "legendgroup": "Jinbe",
         "marker": {
          "color": "#FF97FF",
          "symbol": "circle"
         },
         "mode": "markers",
         "name": "Jinbe",
         "orientation": "v",
         "showlegend": true,
         "type": "scatter",
         "x": [
          46
         ],
         "xaxis": "x",
         "y": [
          438000000
         ],
         "yaxis": "y"
        },
        {
         "hovertemplate": "color=Squard<br>x=%{x}<br>y=%{y}<extra></extra>",
         "legendgroup": "Squard",
         "marker": {
          "color": "#FECB52",
          "symbol": "circle"
         },
         "mode": "markers",
         "name": "Squard",
         "orientation": "v",
         "showlegend": true,
         "type": "scatter",
         "x": [
          52
         ],
         "xaxis": "x",
         "y": [
          210000000
         ],
         "yaxis": "y"
        },
        {
         "hovertemplate": "color=Little Oars Jr.<br>x=%{x}<br>y=%{y}<extra></extra>",
         "legendgroup": "Little Oars Jr.",
         "marker": {
          "color": "#636efa",
          "symbol": "circle"
         },
         "mode": "markers",
         "name": "Little Oars Jr.",
         "orientation": "v",
         "showlegend": true,
         "type": "scatter",
         "x": [
          72
         ],
         "xaxis": "x",
         "y": [
          550000000
         ],
         "yaxis": "y"
        },
        {
         "hovertemplate": "color=Curly Dadan<br>x=%{x}<br>y=%{y}<extra></extra>",
         "legendgroup": "Curly Dadan",
         "marker": {
          "color": "#EF553B",
          "symbol": "circle"
         },
         "mode": "markers",
         "name": "Curly Dadan",
         "orientation": "v",
         "showlegend": true,
         "type": "scatter",
         "x": [
          55
         ],
         "xaxis": "x",
         "y": [
          7800000
         ],
         "yaxis": "y"
        },
        {
         "hovertemplate": "color=Chadros Higelyges<br>x=%{x}<br>y=%{y}<extra></extra>",
         "legendgroup": "Chadros Higelyges",
         "marker": {
          "color": "#00cc96",
          "symbol": "circle"
         },
         "mode": "markers",
         "name": "Chadros Higelyges",
         "orientation": "v",
         "showlegend": true,
         "type": "scatter",
         "x": [
          45
         ],
         "xaxis": "x",
         "y": [
          80060000
         ],
         "yaxis": "y"
        },
        {
         "hovertemplate": "color=Bluejam<br>x=%{x}<br>y=%{y}<extra></extra>",
         "legendgroup": "Bluejam",
         "marker": {
          "color": "#ab63fa",
          "symbol": "circle"
         },
         "mode": "markers",
         "name": "Bluejam",
         "orientation": "v",
         "showlegend": true,
         "type": "scatter",
         "x": [
          42
         ],
         "xaxis": "x",
         "y": [
          14300000
         ],
         "yaxis": "y"
        },
        {
         "hovertemplate": "color=Sabo<br>x=%{x}<br>y=%{y}<extra></extra>",
         "legendgroup": "Sabo",
         "marker": {
          "color": "#FFA15A",
          "symbol": "circle"
         },
         "mode": "markers",
         "name": "Sabo",
         "orientation": "v",
         "showlegend": true,
         "type": "scatter",
         "x": [
          22
         ],
         "xaxis": "x",
         "y": [
          602000000
         ],
         "yaxis": "y"
        },
        {
         "hovertemplate": "color=Demaro Black<br>x=%{x}<br>y=%{y}<extra></extra>",
         "legendgroup": "Demaro Black",
         "marker": {
          "color": "#19d3f3",
          "symbol": "circle"
         },
         "mode": "markers",
         "name": "Demaro Black",
         "orientation": "v",
         "showlegend": true,
         "type": "scatter",
         "x": [
          36
         ],
         "xaxis": "x",
         "y": [
          26000000
         ],
         "yaxis": "y"
        },
        {
         "hovertemplate": "color=Caribou<br>x=%{x}<br>y=%{y}<extra></extra>",
         "legendgroup": "Caribou",
         "marker": {
          "color": "#FF6692",
          "symbol": "circle"
         },
         "mode": "markers",
         "name": "Caribou",
         "orientation": "v",
         "showlegend": true,
         "type": "scatter",
         "x": [
          32
         ],
         "xaxis": "x",
         "y": [
          210000000
         ],
         "yaxis": "y"
        },
        {
         "hovertemplate": "color=Coribou<br>x=%{x}<br>y=%{y}<extra></extra>",
         "legendgroup": "Coribou",
         "marker": {
          "color": "#B6E880",
          "symbol": "circle"
         },
         "mode": "markers",
         "name": "Coribou",
         "orientation": "v",
         "showlegend": true,
         "type": "scatter",
         "x": [
          29
         ],
         "xaxis": "x",
         "y": [
          190000000
         ],
         "yaxis": "y"
        },
        {
         "hovertemplate": "color=Pekoms<br>x=%{x}<br>y=%{y}<extra></extra>",
         "legendgroup": "Pekoms",
         "marker": {
          "color": "#FF97FF",
          "symbol": "circle"
         },
         "mode": "markers",
         "name": "Pekoms",
         "orientation": "v",
         "showlegend": true,
         "type": "scatter",
         "x": [
          27
         ],
         "xaxis": "x",
         "y": [
          330000000
         ],
         "yaxis": "y"
        },
        {
         "hovertemplate": "color=Tamago<br>x=%{x}<br>y=%{y}<extra></extra>",
         "legendgroup": "Tamago",
         "marker": {
          "color": "#FECB52",
          "symbol": "circle"
         },
         "mode": "markers",
         "name": "Tamago",
         "orientation": "v",
         "showlegend": true,
         "type": "scatter",
         "x": [
          46
         ],
         "xaxis": "x",
         "y": [
          429000000
         ],
         "yaxis": "y"
        },
        {
         "hovertemplate": "color=Caesar Clown<br>x=%{x}<br>y=%{y}<extra></extra>",
         "legendgroup": "Caesar Clown",
         "marker": {
          "color": "#636efa",
          "symbol": "circle"
         },
         "mode": "markers",
         "name": "Caesar Clown",
         "orientation": "v",
         "showlegend": true,
         "type": "scatter",
         "x": [
          40
         ],
         "xaxis": "x",
         "y": [
          300000000
         ],
         "yaxis": "y"
        },
        {
         "hovertemplate": "color=Yeti Cool Brothers<br>x=%{x}<br>y=%{y}<extra></extra>",
         "legendgroup": "Yeti Cool Brothers",
         "marker": {
          "color": "#EF553B",
          "symbol": "circle"
         },
         "mode": "markers",
         "name": "Yeti Cool Brothers",
         "orientation": "v",
         "showlegend": true,
         "type": "scatter",
         "x": [
          25
         ],
         "xaxis": "x",
         "y": [
          20000000
         ],
         "yaxis": "y"
        },
        {
         "hovertemplate": "color=Gladius<br>x=%{x}<br>y=%{y}<extra></extra>",
         "legendgroup": "Gladius",
         "marker": {
          "color": "#00cc96",
          "symbol": "circle"
         },
         "mode": "markers",
         "name": "Gladius",
         "orientation": "v",
         "showlegend": true,
         "type": "scatter",
         "x": [
          33
         ],
         "xaxis": "x",
         "y": [
          31000000
         ],
         "yaxis": "y"
        },
        {
         "hovertemplate": "color=Machvise<br>x=%{x}<br>y=%{y}<extra></extra>",
         "legendgroup": "Machvise",
         "marker": {
          "color": "#ab63fa",
          "symbol": "circle"
         },
         "mode": "markers",
         "name": "Machvise",
         "orientation": "v",
         "showlegend": true,
         "type": "scatter",
         "x": [
          52
         ],
         "xaxis": "x",
         "y": [
          11000000
         ],
         "yaxis": "y"
        },
        {
         "hovertemplate": "color=Lao G<br>x=%{x}<br>y=%{y}<extra></extra>",
         "legendgroup": "Lao G",
         "marker": {
          "color": "#FFA15A",
          "symbol": "circle"
         },
         "mode": "markers",
         "name": "Lao G",
         "orientation": "v",
         "showlegend": true,
         "type": "scatter",
         "x": [
          70
         ],
         "xaxis": "x",
         "y": [
          61000000
         ],
         "yaxis": "y"
        },
        {
         "hovertemplate": "color=Diamante<br>x=%{x}<br>y=%{y}<extra></extra>",
         "legendgroup": "Diamante",
         "marker": {
          "color": "#19d3f3",
          "symbol": "circle"
         },
         "mode": "markers",
         "name": "Diamante",
         "orientation": "v",
         "showlegend": true,
         "type": "scatter",
         "x": [
          45
         ],
         "xaxis": "x",
         "y": [
          99000000
         ],
         "yaxis": "y"
        },
        {
         "hovertemplate": "color=Trebol<br>x=%{x}<br>y=%{y}<extra></extra>",
         "legendgroup": "Trebol",
         "marker": {
          "color": "#FF6692",
          "symbol": "circle"
         },
         "mode": "markers",
         "name": "Trebol",
         "orientation": "v",
         "showlegend": true,
         "type": "scatter",
         "x": [
          49
         ],
         "xaxis": "x",
         "y": [
          99000000
         ],
         "yaxis": "y"
        },
        {
         "hovertemplate": "color=Pica<br>x=%{x}<br>y=%{y}<extra></extra>",
         "legendgroup": "Pica",
         "marker": {
          "color": "#B6E880",
          "symbol": "circle"
         },
         "mode": "markers",
         "name": "Pica",
         "orientation": "v",
         "showlegend": true,
         "type": "scatter",
         "x": [
          40
         ],
         "xaxis": "x",
         "y": [
          99000000
         ],
         "yaxis": "y"
        },
        {
         "hovertemplate": "color=Senor Pink<br>x=%{x}<br>y=%{y}<extra></extra>",
         "legendgroup": "Senor Pink",
         "marker": {
          "color": "#FF97FF",
          "symbol": "circle"
         },
         "mode": "markers",
         "name": "Senor Pink",
         "orientation": "v",
         "showlegend": true,
         "type": "scatter",
         "x": [
          46
         ],
         "xaxis": "x",
         "y": [
          58000000
         ],
         "yaxis": "y"
        },
        {
         "hovertemplate": "color=Dellinger<br>x=%{x}<br>y=%{y}<extra></extra>",
         "legendgroup": "Dellinger",
         "marker": {
          "color": "#FECB52",
          "symbol": "circle"
         },
         "mode": "markers",
         "name": "Dellinger",
         "orientation": "v",
         "showlegend": true,
         "type": "scatter",
         "x": [
          16
         ],
         "xaxis": "x",
         "y": [
          15000000
         ],
         "yaxis": "y"
        },
        {
         "hovertemplate": "color=Kelly Funk<br>x=%{x}<br>y=%{y}<extra></extra>",
         "legendgroup": "Kelly Funk",
         "marker": {
          "color": "#636efa",
          "symbol": "circle"
         },
         "mode": "markers",
         "name": "Kelly Funk",
         "orientation": "v",
         "showlegend": true,
         "type": "scatter",
         "x": [
          36
         ],
         "xaxis": "x",
         "y": [
          57000000
         ],
         "yaxis": "y"
        },
        {
         "hovertemplate": "color=Bobby Funk<br>x=%{x}<br>y=%{y}<extra></extra>",
         "legendgroup": "Bobby Funk",
         "marker": {
          "color": "#EF553B",
          "symbol": "circle"
         },
         "mode": "markers",
         "name": "Bobby Funk",
         "orientation": "v",
         "showlegend": true,
         "type": "scatter",
         "x": [
          33
         ],
         "xaxis": "x",
         "y": [
          36000000
         ],
         "yaxis": "y"
        },
        {
         "hovertemplate": "color=Suleiman<br>x=%{x}<br>y=%{y}<extra></extra>",
         "legendgroup": "Suleiman",
         "marker": {
          "color": "#00cc96",
          "symbol": "circle"
         },
         "mode": "markers",
         "name": "Suleiman",
         "orientation": "v",
         "showlegend": true,
         "type": "scatter",
         "x": [
          40
         ],
         "xaxis": "x",
         "y": [
          67000000
         ],
         "yaxis": "y"
        },
        {
         "hovertemplate": "color=Orlumbus<br>x=%{x}<br>y=%{y}<extra></extra>",
         "legendgroup": "Orlumbus",
         "marker": {
          "color": "#ab63fa",
          "symbol": "circle"
         },
         "mode": "markers",
         "name": "Orlumbus",
         "orientation": "v",
         "showlegend": true,
         "type": "scatter",
         "x": [
          42
         ],
         "xaxis": "x",
         "y": [
          148000000
         ],
         "yaxis": "y"
        },
        {
         "hovertemplate": "color=Cavendish<br>x=%{x}<br>y=%{y}<extra></extra>",
         "legendgroup": "Cavendish",
         "marker": {
          "color": "#FFA15A",
          "symbol": "circle"
         },
         "mode": "markers",
         "name": "Cavendish",
         "orientation": "v",
         "showlegend": true,
         "type": "scatter",
         "x": [
          26
         ],
         "xaxis": "x",
         "y": [
          330000000
         ],
         "yaxis": "y"
        },
        {
         "hovertemplate": "color=Chinjao<br>x=%{x}<br>y=%{y}<extra></extra>",
         "legendgroup": "Chinjao",
         "marker": {
          "color": "#19d3f3",
          "symbol": "circle"
         },
         "mode": "markers",
         "name": "Chinjao",
         "orientation": "v",
         "showlegend": true,
         "type": "scatter",
         "x": [
          78
         ],
         "xaxis": "x",
         "y": [
          542000000
         ],
         "yaxis": "y"
        },
        {
         "hovertemplate": "color=Sai<br>x=%{x}<br>y=%{y}<extra></extra>",
         "legendgroup": "Sai",
         "marker": {
          "color": "#FF6692",
          "symbol": "circle"
         },
         "mode": "markers",
         "name": "Sai",
         "orientation": "v",
         "showlegend": true,
         "type": "scatter",
         "x": [
          28
         ],
         "xaxis": "x",
         "y": [
          210000000
         ],
         "yaxis": "y"
        },
        {
         "hovertemplate": "color=Bartolomeo<br>x=%{x}<br>y=%{y}<extra></extra>",
         "legendgroup": "Bartolomeo",
         "marker": {
          "color": "#B6E880",
          "symbol": "circle"
         },
         "mode": "markers",
         "name": "Bartolomeo",
         "orientation": "v",
         "showlegend": true,
         "type": "scatter",
         "x": [
          24
         ],
         "xaxis": "x",
         "y": [
          200000000
         ],
         "yaxis": "y"
        },
        {
         "hovertemplate": "color=Jack<br>x=%{x}<br>y=%{y}<extra></extra>",
         "legendgroup": "Jack",
         "marker": {
          "color": "#FF97FF",
          "symbol": "circle"
         },
         "mode": "markers",
         "name": "Jack",
         "orientation": "v",
         "showlegend": true,
         "type": "scatter",
         "x": [
          28
         ],
         "xaxis": "x",
         "y": [
          1000000000
         ],
         "yaxis": "y"
        },
        {
         "hovertemplate": "color=Edward Weevil<br>x=%{x}<br>y=%{y}<extra></extra>",
         "legendgroup": "Edward Weevil",
         "marker": {
          "color": "#FECB52",
          "symbol": "circle"
         },
         "mode": "markers",
         "name": "Edward Weevil",
         "orientation": "v",
         "showlegend": true,
         "type": "scatter",
         "x": [
          35
         ],
         "xaxis": "x",
         "y": [
          480000000
         ],
         "yaxis": "y"
        },
        {
         "hovertemplate": "color=Vito<br>x=%{x}<br>y=%{y}<extra></extra>",
         "legendgroup": "Vito",
         "marker": {
          "color": "#636efa",
          "symbol": "circle"
         },
         "mode": "markers",
         "name": "Vito",
         "orientation": "v",
         "showlegend": true,
         "type": "scatter",
         "x": [
          36
         ],
         "xaxis": "x",
         "y": [
          95000000
         ],
         "yaxis": "y"
        },
        {
         "hovertemplate": "color=Gotti<br>x=%{x}<br>y=%{y}<extra></extra>",
         "legendgroup": "Gotti",
         "marker": {
          "color": "#EF553B",
          "symbol": "circle"
         },
         "mode": "markers",
         "name": "Gotti",
         "orientation": "v",
         "showlegend": true,
         "type": "scatter",
         "x": [
          33
         ],
         "xaxis": "x",
         "y": [
          90000000
         ],
         "yaxis": "y"
        },
        {
         "hovertemplate": "color=Charlotte Mont-d'Or<br>x=%{x}<br>y=%{y}<extra></extra>",
         "legendgroup": "Charlotte Mont-d'Or",
         "marker": {
          "color": "#00cc96",
          "symbol": "circle"
         },
         "mode": "markers",
         "name": "Charlotte Mont-d'Or",
         "orientation": "v",
         "showlegend": true,
         "type": "scatter",
         "x": [
          38
         ],
         "xaxis": "x",
         "y": [
          120000000
         ],
         "yaxis": "y"
        },
        {
         "hovertemplate": "color=Charlotte Perospero<br>x=%{x}<br>y=%{y}<extra></extra>",
         "legendgroup": "Charlotte Perospero",
         "marker": {
          "color": "#ab63fa",
          "symbol": "circle"
         },
         "mode": "markers",
         "name": "Charlotte Perospero",
         "orientation": "v",
         "showlegend": true,
         "type": "scatter",
         "x": [
          50
         ],
         "xaxis": "x",
         "y": [
          700000000
         ],
         "yaxis": "y"
        },
        {
         "hovertemplate": "color=Charlotte Cracker<br>x=%{x}<br>y=%{y}<extra></extra>",
         "legendgroup": "Charlotte Cracker",
         "marker": {
          "color": "#FFA15A",
          "symbol": "circle"
         },
         "mode": "markers",
         "name": "Charlotte Cracker",
         "orientation": "v",
         "showlegend": true,
         "type": "scatter",
         "x": [
          45
         ],
         "xaxis": "x",
         "y": [
          860000000
         ],
         "yaxis": "y"
        },
        {
         "hovertemplate": "color=Charlotte Smoothie<br>x=%{x}<br>y=%{y}<extra></extra>",
         "legendgroup": "Charlotte Smoothie",
         "marker": {
          "color": "#19d3f3",
          "symbol": "circle"
         },
         "mode": "markers",
         "name": "Charlotte Smoothie",
         "orientation": "v",
         "showlegend": true,
         "type": "scatter",
         "x": [
          35
         ],
         "xaxis": "x",
         "y": [
          932000000
         ],
         "yaxis": "y"
        },
        {
         "hovertemplate": "color=Charlotte Katakuri<br>x=%{x}<br>y=%{y}<extra></extra>",
         "legendgroup": "Charlotte Katakuri",
         "marker": {
          "color": "#FF6692",
          "symbol": "circle"
         },
         "mode": "markers",
         "name": "Charlotte Katakuri",
         "orientation": "v",
         "showlegend": true,
         "type": "scatter",
         "x": [
          48
         ],
         "xaxis": "x",
         "y": [
          1057000000
         ],
         "yaxis": "y"
        },
        {
         "hovertemplate": "color=Charlotte Daifuku<br>x=%{x}<br>y=%{y}<extra></extra>",
         "legendgroup": "Charlotte Daifuku",
         "marker": {
          "color": "#B6E880",
          "symbol": "circle"
         },
         "mode": "markers",
         "name": "Charlotte Daifuku",
         "orientation": "v",
         "showlegend": true,
         "type": "scatter",
         "x": [
          48
         ],
         "xaxis": "x",
         "y": [
          300000000
         ],
         "yaxis": "y"
        },
        {
         "hovertemplate": "color=Charlotte Oven<br>x=%{x}<br>y=%{y}<extra></extra>",
         "legendgroup": "Charlotte Oven",
         "marker": {
          "color": "#FF97FF",
          "symbol": "circle"
         },
         "mode": "markers",
         "name": "Charlotte Oven",
         "orientation": "v",
         "showlegend": true,
         "type": "scatter",
         "x": [
          48
         ],
         "xaxis": "x",
         "y": [
          300000000
         ],
         "yaxis": "y"
        },
        {
         "hovertemplate": "color=Charlotte Snack<br>x=%{x}<br>y=%{y}<extra></extra>",
         "legendgroup": "Charlotte Snack",
         "marker": {
          "color": "#FECB52",
          "symbol": "circle"
         },
         "mode": "markers",
         "name": "Charlotte Snack",
         "orientation": "v",
         "showlegend": true,
         "type": "scatter",
         "x": [
          30
         ],
         "xaxis": "x",
         "y": [
          600000000
         ],
         "yaxis": "y"
        }
       ],
       "layout": {
        "legend": {
         "title": {
          "text": "color"
         },
         "tracegroupgap": 0
        },
        "margin": {
         "t": 60
        },
        "template": {
         "data": {
          "bar": [
           {
            "error_x": {
             "color": "#2a3f5f"
            },
            "error_y": {
             "color": "#2a3f5f"
            },
            "marker": {
             "line": {
              "color": "#E5ECF6",
              "width": 0.5
             }
            },
            "type": "bar"
           }
          ],
          "barpolar": [
           {
            "marker": {
             "line": {
              "color": "#E5ECF6",
              "width": 0.5
             }
            },
            "type": "barpolar"
           }
          ],
          "carpet": [
           {
            "aaxis": {
             "endlinecolor": "#2a3f5f",
             "gridcolor": "white",
             "linecolor": "white",
             "minorgridcolor": "white",
             "startlinecolor": "#2a3f5f"
            },
            "baxis": {
             "endlinecolor": "#2a3f5f",
             "gridcolor": "white",
             "linecolor": "white",
             "minorgridcolor": "white",
             "startlinecolor": "#2a3f5f"
            },
            "type": "carpet"
           }
          ],
          "choropleth": [
           {
            "colorbar": {
             "outlinewidth": 0,
             "ticks": ""
            },
            "type": "choropleth"
           }
          ],
          "contour": [
           {
            "colorbar": {
             "outlinewidth": 0,
             "ticks": ""
            },
            "colorscale": [
             [
              0,
              "#0d0887"
             ],
             [
              0.1111111111111111,
              "#46039f"
             ],
             [
              0.2222222222222222,
              "#7201a8"
             ],
             [
              0.3333333333333333,
              "#9c179e"
             ],
             [
              0.4444444444444444,
              "#bd3786"
             ],
             [
              0.5555555555555556,
              "#d8576b"
             ],
             [
              0.6666666666666666,
              "#ed7953"
             ],
             [
              0.7777777777777778,
              "#fb9f3a"
             ],
             [
              0.8888888888888888,
              "#fdca26"
             ],
             [
              1,
              "#f0f921"
             ]
            ],
            "type": "contour"
           }
          ],
          "contourcarpet": [
           {
            "colorbar": {
             "outlinewidth": 0,
             "ticks": ""
            },
            "type": "contourcarpet"
           }
          ],
          "heatmap": [
           {
            "colorbar": {
             "outlinewidth": 0,
             "ticks": ""
            },
            "colorscale": [
             [
              0,
              "#0d0887"
             ],
             [
              0.1111111111111111,
              "#46039f"
             ],
             [
              0.2222222222222222,
              "#7201a8"
             ],
             [
              0.3333333333333333,
              "#9c179e"
             ],
             [
              0.4444444444444444,
              "#bd3786"
             ],
             [
              0.5555555555555556,
              "#d8576b"
             ],
             [
              0.6666666666666666,
              "#ed7953"
             ],
             [
              0.7777777777777778,
              "#fb9f3a"
             ],
             [
              0.8888888888888888,
              "#fdca26"
             ],
             [
              1,
              "#f0f921"
             ]
            ],
            "type": "heatmap"
           }
          ],
          "heatmapgl": [
           {
            "colorbar": {
             "outlinewidth": 0,
             "ticks": ""
            },
            "colorscale": [
             [
              0,
              "#0d0887"
             ],
             [
              0.1111111111111111,
              "#46039f"
             ],
             [
              0.2222222222222222,
              "#7201a8"
             ],
             [
              0.3333333333333333,
              "#9c179e"
             ],
             [
              0.4444444444444444,
              "#bd3786"
             ],
             [
              0.5555555555555556,
              "#d8576b"
             ],
             [
              0.6666666666666666,
              "#ed7953"
             ],
             [
              0.7777777777777778,
              "#fb9f3a"
             ],
             [
              0.8888888888888888,
              "#fdca26"
             ],
             [
              1,
              "#f0f921"
             ]
            ],
            "type": "heatmapgl"
           }
          ],
          "histogram": [
           {
            "marker": {
             "colorbar": {
              "outlinewidth": 0,
              "ticks": ""
             }
            },
            "type": "histogram"
           }
          ],
          "histogram2d": [
           {
            "colorbar": {
             "outlinewidth": 0,
             "ticks": ""
            },
            "colorscale": [
             [
              0,
              "#0d0887"
             ],
             [
              0.1111111111111111,
              "#46039f"
             ],
             [
              0.2222222222222222,
              "#7201a8"
             ],
             [
              0.3333333333333333,
              "#9c179e"
             ],
             [
              0.4444444444444444,
              "#bd3786"
             ],
             [
              0.5555555555555556,
              "#d8576b"
             ],
             [
              0.6666666666666666,
              "#ed7953"
             ],
             [
              0.7777777777777778,
              "#fb9f3a"
             ],
             [
              0.8888888888888888,
              "#fdca26"
             ],
             [
              1,
              "#f0f921"
             ]
            ],
            "type": "histogram2d"
           }
          ],
          "histogram2dcontour": [
           {
            "colorbar": {
             "outlinewidth": 0,
             "ticks": ""
            },
            "colorscale": [
             [
              0,
              "#0d0887"
             ],
             [
              0.1111111111111111,
              "#46039f"
             ],
             [
              0.2222222222222222,
              "#7201a8"
             ],
             [
              0.3333333333333333,
              "#9c179e"
             ],
             [
              0.4444444444444444,
              "#bd3786"
             ],
             [
              0.5555555555555556,
              "#d8576b"
             ],
             [
              0.6666666666666666,
              "#ed7953"
             ],
             [
              0.7777777777777778,
              "#fb9f3a"
             ],
             [
              0.8888888888888888,
              "#fdca26"
             ],
             [
              1,
              "#f0f921"
             ]
            ],
            "type": "histogram2dcontour"
           }
          ],
          "mesh3d": [
           {
            "colorbar": {
             "outlinewidth": 0,
             "ticks": ""
            },
            "type": "mesh3d"
           }
          ],
          "parcoords": [
           {
            "line": {
             "colorbar": {
              "outlinewidth": 0,
              "ticks": ""
             }
            },
            "type": "parcoords"
           }
          ],
          "pie": [
           {
            "automargin": true,
            "type": "pie"
           }
          ],
          "scatter": [
           {
            "marker": {
             "colorbar": {
              "outlinewidth": 0,
              "ticks": ""
             }
            },
            "type": "scatter"
           }
          ],
          "scatter3d": [
           {
            "line": {
             "colorbar": {
              "outlinewidth": 0,
              "ticks": ""
             }
            },
            "marker": {
             "colorbar": {
              "outlinewidth": 0,
              "ticks": ""
             }
            },
            "type": "scatter3d"
           }
          ],
          "scattercarpet": [
           {
            "marker": {
             "colorbar": {
              "outlinewidth": 0,
              "ticks": ""
             }
            },
            "type": "scattercarpet"
           }
          ],
          "scattergeo": [
           {
            "marker": {
             "colorbar": {
              "outlinewidth": 0,
              "ticks": ""
             }
            },
            "type": "scattergeo"
           }
          ],
          "scattergl": [
           {
            "marker": {
             "colorbar": {
              "outlinewidth": 0,
              "ticks": ""
             }
            },
            "type": "scattergl"
           }
          ],
          "scattermapbox": [
           {
            "marker": {
             "colorbar": {
              "outlinewidth": 0,
              "ticks": ""
             }
            },
            "type": "scattermapbox"
           }
          ],
          "scatterpolar": [
           {
            "marker": {
             "colorbar": {
              "outlinewidth": 0,
              "ticks": ""
             }
            },
            "type": "scatterpolar"
           }
          ],
          "scatterpolargl": [
           {
            "marker": {
             "colorbar": {
              "outlinewidth": 0,
              "ticks": ""
             }
            },
            "type": "scatterpolargl"
           }
          ],
          "scatterternary": [
           {
            "marker": {
             "colorbar": {
              "outlinewidth": 0,
              "ticks": ""
             }
            },
            "type": "scatterternary"
           }
          ],
          "surface": [
           {
            "colorbar": {
             "outlinewidth": 0,
             "ticks": ""
            },
            "colorscale": [
             [
              0,
              "#0d0887"
             ],
             [
              0.1111111111111111,
              "#46039f"
             ],
             [
              0.2222222222222222,
              "#7201a8"
             ],
             [
              0.3333333333333333,
              "#9c179e"
             ],
             [
              0.4444444444444444,
              "#bd3786"
             ],
             [
              0.5555555555555556,
              "#d8576b"
             ],
             [
              0.6666666666666666,
              "#ed7953"
             ],
             [
              0.7777777777777778,
              "#fb9f3a"
             ],
             [
              0.8888888888888888,
              "#fdca26"
             ],
             [
              1,
              "#f0f921"
             ]
            ],
            "type": "surface"
           }
          ],
          "table": [
           {
            "cells": {
             "fill": {
              "color": "#EBF0F8"
             },
             "line": {
              "color": "white"
             }
            },
            "header": {
             "fill": {
              "color": "#C8D4E3"
             },
             "line": {
              "color": "white"
             }
            },
            "type": "table"
           }
          ]
         },
         "layout": {
          "annotationdefaults": {
           "arrowcolor": "#2a3f5f",
           "arrowhead": 0,
           "arrowwidth": 1
          },
          "autotypenumbers": "strict",
          "coloraxis": {
           "colorbar": {
            "outlinewidth": 0,
            "ticks": ""
           }
          },
          "colorscale": {
           "diverging": [
            [
             0,
             "#8e0152"
            ],
            [
             0.1,
             "#c51b7d"
            ],
            [
             0.2,
             "#de77ae"
            ],
            [
             0.3,
             "#f1b6da"
            ],
            [
             0.4,
             "#fde0ef"
            ],
            [
             0.5,
             "#f7f7f7"
            ],
            [
             0.6,
             "#e6f5d0"
            ],
            [
             0.7,
             "#b8e186"
            ],
            [
             0.8,
             "#7fbc41"
            ],
            [
             0.9,
             "#4d9221"
            ],
            [
             1,
             "#276419"
            ]
           ],
           "sequential": [
            [
             0,
             "#0d0887"
            ],
            [
             0.1111111111111111,
             "#46039f"
            ],
            [
             0.2222222222222222,
             "#7201a8"
            ],
            [
             0.3333333333333333,
             "#9c179e"
            ],
            [
             0.4444444444444444,
             "#bd3786"
            ],
            [
             0.5555555555555556,
             "#d8576b"
            ],
            [
             0.6666666666666666,
             "#ed7953"
            ],
            [
             0.7777777777777778,
             "#fb9f3a"
            ],
            [
             0.8888888888888888,
             "#fdca26"
            ],
            [
             1,
             "#f0f921"
            ]
           ],
           "sequentialminus": [
            [
             0,
             "#0d0887"
            ],
            [
             0.1111111111111111,
             "#46039f"
            ],
            [
             0.2222222222222222,
             "#7201a8"
            ],
            [
             0.3333333333333333,
             "#9c179e"
            ],
            [
             0.4444444444444444,
             "#bd3786"
            ],
            [
             0.5555555555555556,
             "#d8576b"
            ],
            [
             0.6666666666666666,
             "#ed7953"
            ],
            [
             0.7777777777777778,
             "#fb9f3a"
            ],
            [
             0.8888888888888888,
             "#fdca26"
            ],
            [
             1,
             "#f0f921"
            ]
           ]
          },
          "colorway": [
           "#636efa",
           "#EF553B",
           "#00cc96",
           "#ab63fa",
           "#FFA15A",
           "#19d3f3",
           "#FF6692",
           "#B6E880",
           "#FF97FF",
           "#FECB52"
          ],
          "font": {
           "color": "#2a3f5f"
          },
          "geo": {
           "bgcolor": "white",
           "lakecolor": "white",
           "landcolor": "#E5ECF6",
           "showlakes": true,
           "showland": true,
           "subunitcolor": "white"
          },
          "hoverlabel": {
           "align": "left"
          },
          "hovermode": "closest",
          "mapbox": {
           "style": "light"
          },
          "paper_bgcolor": "white",
          "plot_bgcolor": "#E5ECF6",
          "polar": {
           "angularaxis": {
            "gridcolor": "white",
            "linecolor": "white",
            "ticks": ""
           },
           "bgcolor": "#E5ECF6",
           "radialaxis": {
            "gridcolor": "white",
            "linecolor": "white",
            "ticks": ""
           }
          },
          "scene": {
           "xaxis": {
            "backgroundcolor": "#E5ECF6",
            "gridcolor": "white",
            "gridwidth": 2,
            "linecolor": "white",
            "showbackground": true,
            "ticks": "",
            "zerolinecolor": "white"
           },
           "yaxis": {
            "backgroundcolor": "#E5ECF6",
            "gridcolor": "white",
            "gridwidth": 2,
            "linecolor": "white",
            "showbackground": true,
            "ticks": "",
            "zerolinecolor": "white"
           },
           "zaxis": {
            "backgroundcolor": "#E5ECF6",
            "gridcolor": "white",
            "gridwidth": 2,
            "linecolor": "white",
            "showbackground": true,
            "ticks": "",
            "zerolinecolor": "white"
           }
          },
          "shapedefaults": {
           "line": {
            "color": "#2a3f5f"
           }
          },
          "ternary": {
           "aaxis": {
            "gridcolor": "white",
            "linecolor": "white",
            "ticks": ""
           },
           "baxis": {
            "gridcolor": "white",
            "linecolor": "white",
            "ticks": ""
           },
           "bgcolor": "#E5ECF6",
           "caxis": {
            "gridcolor": "white",
            "linecolor": "white",
            "ticks": ""
           }
          },
          "title": {
           "x": 0.05
          },
          "xaxis": {
           "automargin": true,
           "gridcolor": "white",
           "linecolor": "white",
           "ticks": "",
           "title": {
            "standoff": 15
           },
           "zerolinecolor": "white",
           "zerolinewidth": 2
          },
          "yaxis": {
           "automargin": true,
           "gridcolor": "white",
           "linecolor": "white",
           "ticks": "",
           "title": {
            "standoff": 15
           },
           "zerolinecolor": "white",
           "zerolinewidth": 2
          }
         }
        },
        "xaxis": {
         "anchor": "y",
         "domain": [
          0,
          1
         ],
         "tickangle": 0,
         "title": {
          "text": "x"
         }
        },
        "yaxis": {
         "anchor": "x",
         "domain": [
          0,
          1
         ],
         "title": {
          "text": "y"
         }
        }
       }
      }
     },
     "metadata": {}
    }
   ],
   "source": [
    "df_age_bounty = data.dropna(subset=['latest_age', 'last_bounty'])\n",
    "df_age_bounty['latest_age'] = df_age_bounty['latest_age'].astype('int')\n",
    "\n",
    "fig = px.scatter(x = df_age_bounty['latest_age'], y=df_age_bounty['last_bounty'], color = df_age_bounty['Name'])\n",
    "fig.update_xaxes(tickangle=0)\n",
    "fig.show()"
   ]
  },
  {
   "cell_type": "code",
   "execution_count": 23,
   "metadata": {
    "tags": []
   },
   "outputs": [
    {
     "output_type": "display_data",
     "data": {
      "application/vnd.plotly.v1+json": {
       "config": {
        "plotlyServerURL": "https://plot.ly"
       },
       "data": [
        {
         "hovertemplate": "color=Red Hair Pirates<br>x=%{x}<br>y=%{y}<extra></extra>",
         "legendgroup": "Red Hair Pirates",
         "marker": {
          "color": "#636efa",
          "symbol": "circle"
         },
         "mode": "markers",
         "name": "Red Hair Pirates",
         "orientation": "v",
         "showlegend": true,
         "type": "scatter",
         "x": [
          39
         ],
         "xaxis": "x",
         "y": [
          4048900000
         ],
         "yaxis": "y"
        },
        {
         "hovertemplate": "color=Straw Hat Pirates<br>x=%{x}<br>y=%{y}<extra></extra>",
         "legendgroup": "Straw Hat Pirates",
         "marker": {
          "color": "#EF553B",
          "symbol": "circle"
         },
         "mode": "markers",
         "name": "Straw Hat Pirates",
         "orientation": "v",
         "showlegend": true,
         "type": "scatter",
         "x": [
          19,
          20,
          19,
          30,
          17,
          36,
          90,
          46
         ],
         "xaxis": "x",
         "y": [
          1500000000,
          66000000,
          200000000,
          130000000,
          100,
          94000000,
          83000000,
          438000000
         ],
         "yaxis": "y"
        },
        {
         "hovertemplate": "color=Buggy's Delivery,  Buggy and Alvida Alliance<br>x=%{x}<br>y=%{y}<extra></extra>",
         "legendgroup": "Buggy's Delivery,  Buggy and Alvida Alliance",
         "marker": {
          "color": "#00cc96",
          "symbol": "circle"
         },
         "mode": "markers",
         "name": "Buggy's Delivery,  Buggy and Alvida Alliance",
         "orientation": "v",
         "showlegend": true,
         "type": "scatter",
         "x": [
          27
         ],
         "xaxis": "x",
         "y": [
          5000000
         ],
         "yaxis": "y"
        },
        {
         "hovertemplate": "color=Straw Hat Pirates <br>x=%{x}<br>y=%{y}<extra></extra>",
         "legendgroup": "Straw Hat Pirates ",
         "marker": {
          "color": "#ab63fa",
          "symbol": "circle"
         },
         "mode": "markers",
         "name": "Straw Hat Pirates ",
         "orientation": "v",
         "showlegend": true,
         "type": "scatter",
         "x": [
          21,
          21
         ],
         "xaxis": "x",
         "y": [
          320000000,
          330000000
         ],
         "yaxis": "y"
        },
        {
         "hovertemplate": "color=Buggy's Delivery <br>x=%{x}<br>y=%{y}<extra></extra>",
         "legendgroup": "Buggy's Delivery ",
         "marker": {
          "color": "#FFA15A",
          "symbol": "circle"
         },
         "mode": "markers",
         "name": "Buggy's Delivery ",
         "orientation": "v",
         "showlegend": true,
         "type": "scatter",
         "x": [
          39
         ],
         "xaxis": "x",
         "y": [
          15000000
         ],
         "yaxis": "y"
        },
        {
         "hovertemplate": "color=Black Cat Pirates<br>x=%{x}<br>y=%{y}<extra></extra>",
         "legendgroup": "Black Cat Pirates",
         "marker": {
          "color": "#19d3f3",
          "symbol": "circle"
         },
         "mode": "markers",
         "name": "Black Cat Pirates",
         "orientation": "v",
         "showlegend": true,
         "type": "scatter",
         "x": [
          35,
          23
         ],
         "xaxis": "x",
         "y": [
          16000000,
          7000000
         ],
         "yaxis": "y"
        },
        {
         "hovertemplate": "color=Marines<br>x=%{x}<br>y=%{y}<extra></extra>",
         "legendgroup": "Marines",
         "marker": {
          "color": "#FF6692",
          "symbol": "circle"
         },
         "mode": "markers",
         "name": "Marines",
         "orientation": "v",
         "showlegend": true,
         "type": "scatter",
         "x": [
          29,
          33
         ],
         "xaxis": "x",
         "y": [
          9000000,
          222000000
         ],
         "yaxis": "y"
        },
        {
         "hovertemplate": "color=Black Cat Pirates <br>x=%{x}<br>y=%{y}<extra></extra>",
         "legendgroup": "Black Cat Pirates ",
         "marker": {
          "color": "#B6E880",
          "symbol": "circle"
         },
         "mode": "markers",
         "name": "Black Cat Pirates ",
         "orientation": "v",
         "showlegend": true,
         "type": "scatter",
         "x": [
          23
         ],
         "xaxis": "x",
         "y": [
          7000000
         ],
         "yaxis": "y"
        },
        {
         "hovertemplate": "color=Arlong Pirates<br>x=%{x}<br>y=%{y}<extra></extra>",
         "legendgroup": "Arlong Pirates",
         "marker": {
          "color": "#FF97FF",
          "symbol": "circle"
         },
         "mode": "markers",
         "name": "Arlong Pirates",
         "orientation": "v",
         "showlegend": true,
         "type": "scatter",
         "x": [
          41
         ],
         "xaxis": "x",
         "y": [
          20000000
         ],
         "yaxis": "y"
        },
        {
         "hovertemplate": "color=Krieg Pirates <br>x=%{x}<br>y=%{y}<extra></extra>",
         "legendgroup": "Krieg Pirates ",
         "marker": {
          "color": "#FECB52",
          "symbol": "circle"
         },
         "mode": "markers",
         "name": "Krieg Pirates ",
         "orientation": "v",
         "showlegend": true,
         "type": "scatter",
         "x": [
          44
         ],
         "xaxis": "x",
         "y": [
          17000000
         ],
         "yaxis": "y"
        },
        {
         "hovertemplate": "color=Krieg Pirates<br>x=%{x}<br>y=%{y}<extra></extra>",
         "legendgroup": "Krieg Pirates",
         "marker": {
          "color": "#636efa",
          "symbol": "circle"
         },
         "mode": "markers",
         "name": "Krieg Pirates",
         "orientation": "v",
         "showlegend": true,
         "type": "scatter",
         "x": [
          27
         ],
         "xaxis": "x",
         "y": [
          12000000
         ],
         "yaxis": "y"
        },
        {
         "hovertemplate": "color=Takoyaki 8<br>x=%{x}<br>y=%{y}<extra></extra>",
         "legendgroup": "Takoyaki 8",
         "marker": {
          "color": "#EF553B",
          "symbol": "circle"
         },
         "mode": "markers",
         "name": "Takoyaki 8",
         "orientation": "v",
         "showlegend": true,
         "type": "scatter",
         "x": [
          38
         ],
         "xaxis": "x",
         "y": [
          8000000
         ],
         "yaxis": "y"
        },
        {
         "hovertemplate": "color=Arlong Pirates <br>x=%{x}<br>y=%{y}<extra></extra>",
         "legendgroup": "Arlong Pirates ",
         "marker": {
          "color": "#00cc96",
          "symbol": "circle"
         },
         "mode": "markers",
         "name": "Arlong Pirates ",
         "orientation": "v",
         "showlegend": true,
         "type": "scatter",
         "x": [
          35,
          38
         ],
         "xaxis": "x",
         "y": [
          5500000,
          9000000
         ],
         "yaxis": "y"
        },
        {
         "hovertemplate": "color=New Spiders Cafe<br>x=%{x}<br>y=%{y}<extra></extra>",
         "legendgroup": "New Spiders Cafe",
         "marker": {
          "color": "#ab63fa",
          "symbol": "circle"
         },
         "mode": "markers",
         "name": "New Spiders Cafe",
         "orientation": "v",
         "showlegend": true,
         "type": "scatter",
         "x": [
          26,
          24,
          18,
          28,
          30,
          51
         ],
         "xaxis": "x",
         "y": [
          10000000,
          7500000,
          29000000,
          35000000,
          3200000,
          14000000
         ],
         "yaxis": "y"
        },
        {
         "hovertemplate": "color=Giant Warrior Pirates  <br>x=%{x}<br>y=%{y}<extra></extra>",
         "legendgroup": "Giant Warrior Pirates  ",
         "marker": {
          "color": "#FFA15A",
          "symbol": "circle"
         },
         "mode": "markers",
         "name": "Giant Warrior Pirates  ",
         "orientation": "v",
         "showlegend": true,
         "type": "scatter",
         "x": [
          160
         ],
         "xaxis": "x",
         "y": [
          100000000
         ],
         "yaxis": "y"
        },
        {
         "hovertemplate": "color=Giant Warrior Pirates   <br>x=%{x}<br>y=%{y}<extra></extra>",
         "legendgroup": "Giant Warrior Pirates   ",
         "marker": {
          "color": "#19d3f3",
          "symbol": "circle"
         },
         "mode": "markers",
         "name": "Giant Warrior Pirates   ",
         "orientation": "v",
         "showlegend": true,
         "type": "scatter",
         "x": [
          160
         ],
         "xaxis": "x",
         "y": [
          100000000
         ],
         "yaxis": "y"
        },
        {
         "hovertemplate": "color=Buggy's Delivery<br>x=%{x}<br>y=%{y}<extra></extra>",
         "legendgroup": "Buggy's Delivery",
         "marker": {
          "color": "#FF6692",
          "symbol": "circle"
         },
         "mode": "markers",
         "name": "Buggy's Delivery",
         "orientation": "v",
         "showlegend": true,
         "type": "scatter",
         "x": [
          37
         ],
         "xaxis": "x",
         "y": [
          24000000
         ],
         "yaxis": "y"
        },
        {
         "hovertemplate": "color=Newkama Land<br>x=%{x}<br>y=%{y}<extra></extra>",
         "legendgroup": "Newkama Land",
         "marker": {
          "color": "#B6E880",
          "symbol": "circle"
         },
         "mode": "markers",
         "name": "Newkama Land",
         "orientation": "v",
         "showlegend": true,
         "type": "scatter",
         "x": [
          32
         ],
         "xaxis": "x",
         "y": [
          32000000
         ],
         "yaxis": "y"
        },
        {
         "hovertemplate": "color=Blackbeard Pirates<br>x=%{x}<br>y=%{y}<extra></extra>",
         "legendgroup": "Blackbeard Pirates",
         "marker": {
          "color": "#FF97FF",
          "symbol": "circle"
         },
         "mode": "markers",
         "name": "Blackbeard Pirates",
         "orientation": "v",
         "showlegend": true,
         "type": "scatter",
         "x": [
          40
         ],
         "xaxis": "x",
         "y": [
          2247600000
         ],
         "yaxis": "y"
        },
        {
         "hovertemplate": "color=Baroque Works   <br>x=%{x}<br>y=%{y}<extra></extra>",
         "legendgroup": "Baroque Works   ",
         "marker": {
          "color": "#FECB52",
          "symbol": "circle"
         },
         "mode": "markers",
         "name": "Baroque Works   ",
         "orientation": "v",
         "showlegend": true,
         "type": "scatter",
         "x": [
          31
         ],
         "xaxis": "x",
         "y": [
          75000000
         ],
         "yaxis": "y"
        },
        {
         "hovertemplate": "color=Saruyama Alliance<br>x=%{x}<br>y=%{y}<extra></extra>",
         "legendgroup": "Saruyama Alliance",
         "marker": {
          "color": "#636efa",
          "symbol": "circle"
         },
         "mode": "markers",
         "name": "Saruyama Alliance",
         "orientation": "v",
         "showlegend": true,
         "type": "scatter",
         "x": [
          25,
          27,
          43
         ],
         "xaxis": "x",
         "y": [
          23000000,
          36000000,
          25000000
         ],
         "yaxis": "y"
        },
        {
         "hovertemplate": "color=Donquixote Pirates  <br>x=%{x}<br>y=%{y}<extra></extra>",
         "legendgroup": "Donquixote Pirates  ",
         "marker": {
          "color": "#EF553B",
          "symbol": "circle"
         },
         "mode": "markers",
         "name": "Donquixote Pirates  ",
         "orientation": "v",
         "showlegend": true,
         "type": "scatter",
         "x": [
          27,
          40
         ],
         "xaxis": "x",
         "y": [
          195000000,
          99000000
         ],
         "yaxis": "y"
        },
        {
         "hovertemplate": "color=Bellamy Pirates <br>x=%{x}<br>y=%{y}<extra></extra>",
         "legendgroup": "Bellamy Pirates ",
         "marker": {
          "color": "#00cc96",
          "symbol": "circle"
         },
         "mode": "markers",
         "name": "Bellamy Pirates ",
         "orientation": "v",
         "showlegend": true,
         "type": "scatter",
         "x": [
          27
         ],
         "xaxis": "x",
         "y": [
          38000000
         ],
         "yaxis": "y"
        },
        {
         "hovertemplate": "color=Donquixote Pirates<br>x=%{x}<br>y=%{y}<extra></extra>",
         "legendgroup": "Donquixote Pirates",
         "marker": {
          "color": "#ab63fa",
          "symbol": "circle"
         },
         "mode": "markers",
         "name": "Donquixote Pirates",
         "orientation": "v",
         "showlegend": true,
         "type": "scatter",
         "x": [
          41
         ],
         "xaxis": "x",
         "y": [
          340000000
         ],
         "yaxis": "y"
        },
        {
         "hovertemplate": "color=Slavery<br>x=%{x}<br>y=%{y}<extra></extra>",
         "legendgroup": "Slavery",
         "marker": {
          "color": "#FFA15A",
          "symbol": "circle"
         },
         "mode": "markers",
         "name": "Slavery",
         "orientation": "v",
         "showlegend": true,
         "type": "scatter",
         "x": [
          47
         ],
         "xaxis": "x",
         "y": [
          296000000
         ],
         "yaxis": "y"
        },
        {
         "hovertemplate": "color=Foxy Pirates <br>x=%{x}<br>y=%{y}<extra></extra>",
         "legendgroup": "Foxy Pirates ",
         "marker": {
          "color": "#19d3f3",
          "symbol": "circle"
         },
         "mode": "markers",
         "name": "Foxy Pirates ",
         "orientation": "v",
         "showlegend": true,
         "type": "scatter",
         "x": [
          38
         ],
         "xaxis": "x",
         "y": [
          24000000
         ],
         "yaxis": "y"
        },
        {
         "hovertemplate": "color=Big Mom Pirates<br>x=%{x}<br>y=%{y}<extra></extra>",
         "legendgroup": "Big Mom Pirates",
         "marker": {
          "color": "#FF6692",
          "symbol": "circle"
         },
         "mode": "markers",
         "name": "Big Mom Pirates",
         "orientation": "v",
         "showlegend": true,
         "type": "scatter",
         "x": [
          68,
          27
         ],
         "xaxis": "x",
         "y": [
          4388000000,
          330000000
         ],
         "yaxis": "y"
        },
        {
         "hovertemplate": "color=Thriller Bark Pirates  <br>x=%{x}<br>y=%{y}<extra></extra>",
         "legendgroup": "Thriller Bark Pirates  ",
         "marker": {
          "color": "#B6E880",
          "symbol": "circle"
         },
         "mode": "markers",
         "name": "Thriller Bark Pirates  ",
         "orientation": "v",
         "showlegend": true,
         "type": "scatter",
         "x": [
          50
         ],
         "xaxis": "x",
         "y": [
          320000000
         ],
         "yaxis": "y"
        },
        {
         "hovertemplate": "color=Rolling Pirates<br>x=%{x}<br>y=%{y}<extra></extra>",
         "legendgroup": "Rolling Pirates",
         "marker": {
          "color": "#FF97FF",
          "symbol": "circle"
         },
         "mode": "markers",
         "name": "Rolling Pirates",
         "orientation": "v",
         "showlegend": true,
         "type": "scatter",
         "x": [
          26,
          26
         ],
         "xaxis": "x",
         "y": [
          24000000,
          24000000
         ],
         "yaxis": "y"
        },
        {
         "hovertemplate": "color=Fire Tank Pirates<br>x=%{x}<br>y=%{y}<extra></extra>",
         "legendgroup": "Fire Tank Pirates",
         "marker": {
          "color": "#FECB52",
          "symbol": "circle"
         },
         "mode": "markers",
         "name": "Fire Tank Pirates",
         "orientation": "v",
         "showlegend": true,
         "type": "scatter",
         "x": [
          42
         ],
         "xaxis": "x",
         "y": [
          350000000
         ],
         "yaxis": "y"
        },
        {
         "hovertemplate": "color=On Air Pirates <br>x=%{x}<br>y=%{y}<extra></extra>",
         "legendgroup": "On Air Pirates ",
         "marker": {
          "color": "#636efa",
          "symbol": "circle"
         },
         "mode": "markers",
         "name": "On Air Pirates ",
         "orientation": "v",
         "showlegend": true,
         "type": "scatter",
         "x": [
          31
         ],
         "xaxis": "x",
         "y": [
          350000000
         ],
         "yaxis": "y"
        },
        {
         "hovertemplate": "color=Kid Pirates <br>x=%{x}<br>y=%{y}<extra></extra>",
         "legendgroup": "Kid Pirates ",
         "marker": {
          "color": "#EF553B",
          "symbol": "circle"
         },
         "mode": "markers",
         "name": "Kid Pirates ",
         "orientation": "v",
         "showlegend": true,
         "type": "scatter",
         "x": [
          23
         ],
         "xaxis": "x",
         "y": [
          470000000
         ],
         "yaxis": "y"
        },
        {
         "hovertemplate": "color=Kid Pirates<br>x=%{x}<br>y=%{y}<extra></extra>",
         "legendgroup": "Kid Pirates",
         "marker": {
          "color": "#00cc96",
          "symbol": "circle"
         },
         "mode": "markers",
         "name": "Kid Pirates",
         "orientation": "v",
         "showlegend": true,
         "type": "scatter",
         "x": [
          27
         ],
         "xaxis": "x",
         "y": [
          200000000
         ],
         "yaxis": "y"
        },
        {
         "hovertemplate": "color=Fallen Monk Pirates <br>x=%{x}<br>y=%{y}<extra></extra>",
         "legendgroup": "Fallen Monk Pirates ",
         "marker": {
          "color": "#ab63fa",
          "symbol": "circle"
         },
         "mode": "markers",
         "name": "Fallen Monk Pirates ",
         "orientation": "v",
         "showlegend": true,
         "type": "scatter",
         "x": [
          47
         ],
         "xaxis": "x",
         "y": [
          108000000
         ],
         "yaxis": "y"
        },
        {
         "hovertemplate": "color=Hawkins Pirates<br>x=%{x}<br>y=%{y}<extra></extra>",
         "legendgroup": "Hawkins Pirates",
         "marker": {
          "color": "#FFA15A",
          "symbol": "circle"
         },
         "mode": "markers",
         "name": "Hawkins Pirates",
         "orientation": "v",
         "showlegend": true,
         "type": "scatter",
         "x": [
          31
         ],
         "xaxis": "x",
         "y": [
          320000000
         ],
         "yaxis": "y"
        },
        {
         "hovertemplate": "color=Heart Pirates<br>x=%{x}<br>y=%{y}<extra></extra>",
         "legendgroup": "Heart Pirates",
         "marker": {
          "color": "#19d3f3",
          "symbol": "circle"
         },
         "mode": "markers",
         "name": "Heart Pirates",
         "orientation": "v",
         "showlegend": true,
         "type": "scatter",
         "x": [
          26,
          22
         ],
         "xaxis": "x",
         "y": [
          500000000,
          500
         ],
         "yaxis": "y"
        },
        {
         "hovertemplate": "color=Bonney Pirates <br>x=%{x}<br>y=%{y}<extra></extra>",
         "legendgroup": "Bonney Pirates ",
         "marker": {
          "color": "#FF6692",
          "symbol": "circle"
         },
         "mode": "markers",
         "name": "Bonney Pirates ",
         "orientation": "v",
         "showlegend": true,
         "type": "scatter",
         "x": [
          24
         ],
         "xaxis": "x",
         "y": [
          140000000
         ],
         "yaxis": "y"
        },
        {
         "hovertemplate": "color=Kuja<br>x=%{x}<br>y=%{y}<extra></extra>",
         "legendgroup": "Kuja",
         "marker": {
          "color": "#B6E880",
          "symbol": "circle"
         },
         "mode": "markers",
         "name": "Kuja",
         "orientation": "v",
         "showlegend": true,
         "type": "scatter",
         "x": [
          31,
          28,
          30
         ],
         "xaxis": "x",
         "y": [
          80000000,
          40000000,
          40000000
         ],
         "yaxis": "y"
        },
        {
         "hovertemplate": "color=Subordinate of the Whitebeard Pirates<br>x=%{x}<br>y=%{y}<extra></extra>",
         "legendgroup": "Subordinate of the Whitebeard Pirates",
         "marker": {
          "color": "#FF97FF",
          "symbol": "circle"
         },
         "mode": "markers",
         "name": "Subordinate of the Whitebeard Pirates",
         "orientation": "v",
         "showlegend": true,
         "type": "scatter",
         "x": [
          52
         ],
         "xaxis": "x",
         "y": [
          210000000
         ],
         "yaxis": "y"
        },
        {
         "hovertemplate": "color=Little Pirates<br>x=%{x}<br>y=%{y}<extra></extra>",
         "legendgroup": "Little Pirates",
         "marker": {
          "color": "#FECB52",
          "symbol": "circle"
         },
         "mode": "markers",
         "name": "Little Pirates",
         "orientation": "v",
         "showlegend": true,
         "type": "scatter",
         "x": [
          72
         ],
         "xaxis": "x",
         "y": [
          550000000
         ],
         "yaxis": "y"
        },
        {
         "hovertemplate": "color=Dadan Family <br>x=%{x}<br>y=%{y}<extra></extra>",
         "legendgroup": "Dadan Family ",
         "marker": {
          "color": "#636efa",
          "symbol": "circle"
         },
         "mode": "markers",
         "name": "Dadan Family ",
         "orientation": "v",
         "showlegend": true,
         "type": "scatter",
         "x": [
          55
         ],
         "xaxis": "x",
         "y": [
          7800000
         ],
         "yaxis": "y"
        },
        {
         "hovertemplate": "color=Caesar Clown  ,  Centaur Patrol Unit   <br>x=%{x}<br>y=%{y}<extra></extra>",
         "legendgroup": "Caesar Clown  ,  Centaur Patrol Unit   ",
         "marker": {
          "color": "#EF553B",
          "symbol": "circle"
         },
         "mode": "markers",
         "name": "Caesar Clown  ,  Centaur Patrol Unit   ",
         "orientation": "v",
         "showlegend": true,
         "type": "scatter",
         "x": [
          45
         ],
         "xaxis": "x",
         "y": [
          80060000
         ],
         "yaxis": "y"
        },
        {
         "hovertemplate": "color=Bluejam Pirates <br>x=%{x}<br>y=%{y}<extra></extra>",
         "legendgroup": "Bluejam Pirates ",
         "marker": {
          "color": "#00cc96",
          "symbol": "circle"
         },
         "mode": "markers",
         "name": "Bluejam Pirates ",
         "orientation": "v",
         "showlegend": true,
         "type": "scatter",
         "x": [
          42
         ],
         "xaxis": "x",
         "y": [
          14300000
         ],
         "yaxis": "y"
        },
        {
         "hovertemplate": "color=Revolutionary Army<br>x=%{x}<br>y=%{y}<extra></extra>",
         "legendgroup": "Revolutionary Army",
         "marker": {
          "color": "#ab63fa",
          "symbol": "circle"
         },
         "mode": "markers",
         "name": "Revolutionary Army",
         "orientation": "v",
         "showlegend": true,
         "type": "scatter",
         "x": [
          22
         ],
         "xaxis": "x",
         "y": [
          602000000
         ],
         "yaxis": "y"
        },
        {
         "hovertemplate": "color=Fake Straw Hat Crew <br>x=%{x}<br>y=%{y}<extra></extra>",
         "legendgroup": "Fake Straw Hat Crew ",
         "marker": {
          "color": "#FFA15A",
          "symbol": "circle"
         },
         "mode": "markers",
         "name": "Fake Straw Hat Crew ",
         "orientation": "v",
         "showlegend": true,
         "type": "scatter",
         "x": [
          36
         ],
         "xaxis": "x",
         "y": [
          26000000
         ],
         "yaxis": "y"
        },
        {
         "hovertemplate": "color=Caribou Pirates<br>x=%{x}<br>y=%{y}<extra></extra>",
         "legendgroup": "Caribou Pirates",
         "marker": {
          "color": "#19d3f3",
          "symbol": "circle"
         },
         "mode": "markers",
         "name": "Caribou Pirates",
         "orientation": "v",
         "showlegend": true,
         "type": "scatter",
         "x": [
          32,
          29
         ],
         "xaxis": "x",
         "y": [
          210000000,
          190000000
         ],
         "yaxis": "y"
        },
        {
         "hovertemplate": "color=Big Mom Pirates <br>x=%{x}<br>y=%{y}<extra></extra>",
         "legendgroup": "Big Mom Pirates ",
         "marker": {
          "color": "#FF6692",
          "symbol": "circle"
         },
         "mode": "markers",
         "name": "Big Mom Pirates ",
         "orientation": "v",
         "showlegend": true,
         "type": "scatter",
         "x": [
          46
         ],
         "xaxis": "x",
         "y": [
          429000000
         ],
         "yaxis": "y"
        },
        {
         "hovertemplate": "color=Fire Tank Pirates  <br>x=%{x}<br>y=%{y}<extra></extra>",
         "legendgroup": "Fire Tank Pirates  ",
         "marker": {
          "color": "#B6E880",
          "symbol": "circle"
         },
         "mode": "markers",
         "name": "Fire Tank Pirates  ",
         "orientation": "v",
         "showlegend": true,
         "type": "scatter",
         "x": [
          40
         ],
         "xaxis": "x",
         "y": [
          300000000
         ],
         "yaxis": "y"
        },
        {
         "hovertemplate": "color=Caesar Clown <br>x=%{x}<br>y=%{y}<extra></extra>",
         "legendgroup": "Caesar Clown ",
         "marker": {
          "color": "#FF97FF",
          "symbol": "circle"
         },
         "mode": "markers",
         "name": "Caesar Clown ",
         "orientation": "v",
         "showlegend": true,
         "type": "scatter",
         "x": [
          25
         ],
         "xaxis": "x",
         "y": [
          20000000
         ],
         "yaxis": "y"
        },
        {
         "hovertemplate": "color=Donquixote Pirates <br>x=%{x}<br>y=%{y}<extra></extra>",
         "legendgroup": "Donquixote Pirates ",
         "marker": {
          "color": "#FECB52",
          "symbol": "circle"
         },
         "mode": "markers",
         "name": "Donquixote Pirates ",
         "orientation": "v",
         "showlegend": true,
         "type": "scatter",
         "x": [
          33,
          52,
          70,
          45,
          49,
          46,
          16
         ],
         "xaxis": "x",
         "y": [
          31000000,
          11000000,
          61000000,
          99000000,
          99000000,
          58000000,
          15000000
         ],
         "yaxis": "y"
        },
        {
         "hovertemplate": "color=Mogaro Kingdom <br>x=%{x}<br>y=%{y}<extra></extra>",
         "legendgroup": "Mogaro Kingdom ",
         "marker": {
          "color": "#636efa",
          "symbol": "circle"
         },
         "mode": "markers",
         "name": "Mogaro Kingdom ",
         "orientation": "v",
         "showlegend": true,
         "type": "scatter",
         "x": [
          36,
          33
         ],
         "xaxis": "x",
         "y": [
          57000000,
          36000000
         ],
         "yaxis": "y"
        },
        {
         "hovertemplate": "color=Beautiful Pirates <br>x=%{x}<br>y=%{y}<extra></extra>",
         "legendgroup": "Beautiful Pirates ",
         "marker": {
          "color": "#EF553B",
          "symbol": "circle"
         },
         "mode": "markers",
         "name": "Beautiful Pirates ",
         "orientation": "v",
         "showlegend": true,
         "type": "scatter",
         "x": [
          40
         ],
         "xaxis": "x",
         "y": [
          67000000
         ],
         "yaxis": "y"
        },
        {
         "hovertemplate": "color=Yonta Maria Grand Fleet<br>x=%{x}<br>y=%{y}<extra></extra>",
         "legendgroup": "Yonta Maria Grand Fleet",
         "marker": {
          "color": "#00cc96",
          "symbol": "circle"
         },
         "mode": "markers",
         "name": "Yonta Maria Grand Fleet",
         "orientation": "v",
         "showlegend": true,
         "type": "scatter",
         "x": [
          42
         ],
         "xaxis": "x",
         "y": [
          148000000
         ],
         "yaxis": "y"
        },
        {
         "hovertemplate": "color=Beautiful Pirates<br>x=%{x}<br>y=%{y}<extra></extra>",
         "legendgroup": "Beautiful Pirates",
         "marker": {
          "color": "#ab63fa",
          "symbol": "circle"
         },
         "mode": "markers",
         "name": "Beautiful Pirates",
         "orientation": "v",
         "showlegend": true,
         "type": "scatter",
         "x": [
          26
         ],
         "xaxis": "x",
         "y": [
          330000000
         ],
         "yaxis": "y"
        },
        {
         "hovertemplate": "color=Chinjao Family<br>x=%{x}<br>y=%{y}<extra></extra>",
         "legendgroup": "Chinjao Family",
         "marker": {
          "color": "#FFA15A",
          "symbol": "circle"
         },
         "mode": "markers",
         "name": "Chinjao Family",
         "orientation": "v",
         "showlegend": true,
         "type": "scatter",
         "x": [
          78
         ],
         "xaxis": "x",
         "y": [
          542000000
         ],
         "yaxis": "y"
        },
        {
         "hovertemplate": "color=Happo Navy<br>x=%{x}<br>y=%{y}<extra></extra>",
         "legendgroup": "Happo Navy",
         "marker": {
          "color": "#19d3f3",
          "symbol": "circle"
         },
         "mode": "markers",
         "name": "Happo Navy",
         "orientation": "v",
         "showlegend": true,
         "type": "scatter",
         "x": [
          28
         ],
         "xaxis": "x",
         "y": [
          210000000
         ],
         "yaxis": "y"
        },
        {
         "hovertemplate": "color=Barto Club<br>x=%{x}<br>y=%{y}<extra></extra>",
         "legendgroup": "Barto Club",
         "marker": {
          "color": "#FF6692",
          "symbol": "circle"
         },
         "mode": "markers",
         "name": "Barto Club",
         "orientation": "v",
         "showlegend": true,
         "type": "scatter",
         "x": [
          24
         ],
         "xaxis": "x",
         "y": [
          200000000
         ],
         "yaxis": "y"
        },
        {
         "hovertemplate": "color=Beasts Pirates <br>x=%{x}<br>y=%{y}<extra></extra>",
         "legendgroup": "Beasts Pirates ",
         "marker": {
          "color": "#B6E880",
          "symbol": "circle"
         },
         "mode": "markers",
         "name": "Beasts Pirates ",
         "orientation": "v",
         "showlegend": true,
         "type": "scatter",
         "x": [
          28
         ],
         "xaxis": "x",
         "y": [
          1000000000
         ],
         "yaxis": "y"
        },
        {
         "hovertemplate": "color=Seven Warlords of the Sea    <br>x=%{x}<br>y=%{y}<extra></extra>",
         "legendgroup": "Seven Warlords of the Sea    ",
         "marker": {
          "color": "#FF97FF",
          "symbol": "circle"
         },
         "mode": "markers",
         "name": "Seven Warlords of the Sea    ",
         "orientation": "v",
         "showlegend": true,
         "type": "scatter",
         "x": [
          35
         ],
         "xaxis": "x",
         "y": [
          480000000
         ],
         "yaxis": "y"
        },
        {
         "hovertemplate": "color=Fire Tank Pirates <br>x=%{x}<br>y=%{y}<extra></extra>",
         "legendgroup": "Fire Tank Pirates ",
         "marker": {
          "color": "#FECB52",
          "symbol": "circle"
         },
         "mode": "markers",
         "name": "Fire Tank Pirates ",
         "orientation": "v",
         "showlegend": true,
         "type": "scatter",
         "x": [
          36,
          33
         ],
         "xaxis": "x",
         "y": [
          95000000,
          90000000
         ],
         "yaxis": "y"
        },
        {
         "hovertemplate": "color=Charlotte Family<br>x=%{x}<br>y=%{y}<extra></extra>",
         "legendgroup": "Charlotte Family",
         "marker": {
          "color": "#636efa",
          "symbol": "circle"
         },
         "mode": "markers",
         "name": "Charlotte Family",
         "orientation": "v",
         "showlegend": true,
         "type": "scatter",
         "x": [
          38,
          50,
          45,
          35,
          48,
          48,
          48,
          30
         ],
         "xaxis": "x",
         "y": [
          120000000,
          700000000,
          860000000,
          932000000,
          1057000000,
          300000000,
          300000000,
          600000000
         ],
         "yaxis": "y"
        }
       ],
       "layout": {
        "legend": {
         "title": {
          "text": "color"
         },
         "tracegroupgap": 0
        },
        "margin": {
         "t": 60
        },
        "template": {
         "data": {
          "bar": [
           {
            "error_x": {
             "color": "#2a3f5f"
            },
            "error_y": {
             "color": "#2a3f5f"
            },
            "marker": {
             "line": {
              "color": "#E5ECF6",
              "width": 0.5
             }
            },
            "type": "bar"
           }
          ],
          "barpolar": [
           {
            "marker": {
             "line": {
              "color": "#E5ECF6",
              "width": 0.5
             }
            },
            "type": "barpolar"
           }
          ],
          "carpet": [
           {
            "aaxis": {
             "endlinecolor": "#2a3f5f",
             "gridcolor": "white",
             "linecolor": "white",
             "minorgridcolor": "white",
             "startlinecolor": "#2a3f5f"
            },
            "baxis": {
             "endlinecolor": "#2a3f5f",
             "gridcolor": "white",
             "linecolor": "white",
             "minorgridcolor": "white",
             "startlinecolor": "#2a3f5f"
            },
            "type": "carpet"
           }
          ],
          "choropleth": [
           {
            "colorbar": {
             "outlinewidth": 0,
             "ticks": ""
            },
            "type": "choropleth"
           }
          ],
          "contour": [
           {
            "colorbar": {
             "outlinewidth": 0,
             "ticks": ""
            },
            "colorscale": [
             [
              0,
              "#0d0887"
             ],
             [
              0.1111111111111111,
              "#46039f"
             ],
             [
              0.2222222222222222,
              "#7201a8"
             ],
             [
              0.3333333333333333,
              "#9c179e"
             ],
             [
              0.4444444444444444,
              "#bd3786"
             ],
             [
              0.5555555555555556,
              "#d8576b"
             ],
             [
              0.6666666666666666,
              "#ed7953"
             ],
             [
              0.7777777777777778,
              "#fb9f3a"
             ],
             [
              0.8888888888888888,
              "#fdca26"
             ],
             [
              1,
              "#f0f921"
             ]
            ],
            "type": "contour"
           }
          ],
          "contourcarpet": [
           {
            "colorbar": {
             "outlinewidth": 0,
             "ticks": ""
            },
            "type": "contourcarpet"
           }
          ],
          "heatmap": [
           {
            "colorbar": {
             "outlinewidth": 0,
             "ticks": ""
            },
            "colorscale": [
             [
              0,
              "#0d0887"
             ],
             [
              0.1111111111111111,
              "#46039f"
             ],
             [
              0.2222222222222222,
              "#7201a8"
             ],
             [
              0.3333333333333333,
              "#9c179e"
             ],
             [
              0.4444444444444444,
              "#bd3786"
             ],
             [
              0.5555555555555556,
              "#d8576b"
             ],
             [
              0.6666666666666666,
              "#ed7953"
             ],
             [
              0.7777777777777778,
              "#fb9f3a"
             ],
             [
              0.8888888888888888,
              "#fdca26"
             ],
             [
              1,
              "#f0f921"
             ]
            ],
            "type": "heatmap"
           }
          ],
          "heatmapgl": [
           {
            "colorbar": {
             "outlinewidth": 0,
             "ticks": ""
            },
            "colorscale": [
             [
              0,
              "#0d0887"
             ],
             [
              0.1111111111111111,
              "#46039f"
             ],
             [
              0.2222222222222222,
              "#7201a8"
             ],
             [
              0.3333333333333333,
              "#9c179e"
             ],
             [
              0.4444444444444444,
              "#bd3786"
             ],
             [
              0.5555555555555556,
              "#d8576b"
             ],
             [
              0.6666666666666666,
              "#ed7953"
             ],
             [
              0.7777777777777778,
              "#fb9f3a"
             ],
             [
              0.8888888888888888,
              "#fdca26"
             ],
             [
              1,
              "#f0f921"
             ]
            ],
            "type": "heatmapgl"
           }
          ],
          "histogram": [
           {
            "marker": {
             "colorbar": {
              "outlinewidth": 0,
              "ticks": ""
             }
            },
            "type": "histogram"
           }
          ],
          "histogram2d": [
           {
            "colorbar": {
             "outlinewidth": 0,
             "ticks": ""
            },
            "colorscale": [
             [
              0,
              "#0d0887"
             ],
             [
              0.1111111111111111,
              "#46039f"
             ],
             [
              0.2222222222222222,
              "#7201a8"
             ],
             [
              0.3333333333333333,
              "#9c179e"
             ],
             [
              0.4444444444444444,
              "#bd3786"
             ],
             [
              0.5555555555555556,
              "#d8576b"
             ],
             [
              0.6666666666666666,
              "#ed7953"
             ],
             [
              0.7777777777777778,
              "#fb9f3a"
             ],
             [
              0.8888888888888888,
              "#fdca26"
             ],
             [
              1,
              "#f0f921"
             ]
            ],
            "type": "histogram2d"
           }
          ],
          "histogram2dcontour": [
           {
            "colorbar": {
             "outlinewidth": 0,
             "ticks": ""
            },
            "colorscale": [
             [
              0,
              "#0d0887"
             ],
             [
              0.1111111111111111,
              "#46039f"
             ],
             [
              0.2222222222222222,
              "#7201a8"
             ],
             [
              0.3333333333333333,
              "#9c179e"
             ],
             [
              0.4444444444444444,
              "#bd3786"
             ],
             [
              0.5555555555555556,
              "#d8576b"
             ],
             [
              0.6666666666666666,
              "#ed7953"
             ],
             [
              0.7777777777777778,
              "#fb9f3a"
             ],
             [
              0.8888888888888888,
              "#fdca26"
             ],
             [
              1,
              "#f0f921"
             ]
            ],
            "type": "histogram2dcontour"
           }
          ],
          "mesh3d": [
           {
            "colorbar": {
             "outlinewidth": 0,
             "ticks": ""
            },
            "type": "mesh3d"
           }
          ],
          "parcoords": [
           {
            "line": {
             "colorbar": {
              "outlinewidth": 0,
              "ticks": ""
             }
            },
            "type": "parcoords"
           }
          ],
          "pie": [
           {
            "automargin": true,
            "type": "pie"
           }
          ],
          "scatter": [
           {
            "marker": {
             "colorbar": {
              "outlinewidth": 0,
              "ticks": ""
             }
            },
            "type": "scatter"
           }
          ],
          "scatter3d": [
           {
            "line": {
             "colorbar": {
              "outlinewidth": 0,
              "ticks": ""
             }
            },
            "marker": {
             "colorbar": {
              "outlinewidth": 0,
              "ticks": ""
             }
            },
            "type": "scatter3d"
           }
          ],
          "scattercarpet": [
           {
            "marker": {
             "colorbar": {
              "outlinewidth": 0,
              "ticks": ""
             }
            },
            "type": "scattercarpet"
           }
          ],
          "scattergeo": [
           {
            "marker": {
             "colorbar": {
              "outlinewidth": 0,
              "ticks": ""
             }
            },
            "type": "scattergeo"
           }
          ],
          "scattergl": [
           {
            "marker": {
             "colorbar": {
              "outlinewidth": 0,
              "ticks": ""
             }
            },
            "type": "scattergl"
           }
          ],
          "scattermapbox": [
           {
            "marker": {
             "colorbar": {
              "outlinewidth": 0,
              "ticks": ""
             }
            },
            "type": "scattermapbox"
           }
          ],
          "scatterpolar": [
           {
            "marker": {
             "colorbar": {
              "outlinewidth": 0,
              "ticks": ""
             }
            },
            "type": "scatterpolar"
           }
          ],
          "scatterpolargl": [
           {
            "marker": {
             "colorbar": {
              "outlinewidth": 0,
              "ticks": ""
             }
            },
            "type": "scatterpolargl"
           }
          ],
          "scatterternary": [
           {
            "marker": {
             "colorbar": {
              "outlinewidth": 0,
              "ticks": ""
             }
            },
            "type": "scatterternary"
           }
          ],
          "surface": [
           {
            "colorbar": {
             "outlinewidth": 0,
             "ticks": ""
            },
            "colorscale": [
             [
              0,
              "#0d0887"
             ],
             [
              0.1111111111111111,
              "#46039f"
             ],
             [
              0.2222222222222222,
              "#7201a8"
             ],
             [
              0.3333333333333333,
              "#9c179e"
             ],
             [
              0.4444444444444444,
              "#bd3786"
             ],
             [
              0.5555555555555556,
              "#d8576b"
             ],
             [
              0.6666666666666666,
              "#ed7953"
             ],
             [
              0.7777777777777778,
              "#fb9f3a"
             ],
             [
              0.8888888888888888,
              "#fdca26"
             ],
             [
              1,
              "#f0f921"
             ]
            ],
            "type": "surface"
           }
          ],
          "table": [
           {
            "cells": {
             "fill": {
              "color": "#EBF0F8"
             },
             "line": {
              "color": "white"
             }
            },
            "header": {
             "fill": {
              "color": "#C8D4E3"
             },
             "line": {
              "color": "white"
             }
            },
            "type": "table"
           }
          ]
         },
         "layout": {
          "annotationdefaults": {
           "arrowcolor": "#2a3f5f",
           "arrowhead": 0,
           "arrowwidth": 1
          },
          "autotypenumbers": "strict",
          "coloraxis": {
           "colorbar": {
            "outlinewidth": 0,
            "ticks": ""
           }
          },
          "colorscale": {
           "diverging": [
            [
             0,
             "#8e0152"
            ],
            [
             0.1,
             "#c51b7d"
            ],
            [
             0.2,
             "#de77ae"
            ],
            [
             0.3,
             "#f1b6da"
            ],
            [
             0.4,
             "#fde0ef"
            ],
            [
             0.5,
             "#f7f7f7"
            ],
            [
             0.6,
             "#e6f5d0"
            ],
            [
             0.7,
             "#b8e186"
            ],
            [
             0.8,
             "#7fbc41"
            ],
            [
             0.9,
             "#4d9221"
            ],
            [
             1,
             "#276419"
            ]
           ],
           "sequential": [
            [
             0,
             "#0d0887"
            ],
            [
             0.1111111111111111,
             "#46039f"
            ],
            [
             0.2222222222222222,
             "#7201a8"
            ],
            [
             0.3333333333333333,
             "#9c179e"
            ],
            [
             0.4444444444444444,
             "#bd3786"
            ],
            [
             0.5555555555555556,
             "#d8576b"
            ],
            [
             0.6666666666666666,
             "#ed7953"
            ],
            [
             0.7777777777777778,
             "#fb9f3a"
            ],
            [
             0.8888888888888888,
             "#fdca26"
            ],
            [
             1,
             "#f0f921"
            ]
           ],
           "sequentialminus": [
            [
             0,
             "#0d0887"
            ],
            [
             0.1111111111111111,
             "#46039f"
            ],
            [
             0.2222222222222222,
             "#7201a8"
            ],
            [
             0.3333333333333333,
             "#9c179e"
            ],
            [
             0.4444444444444444,
             "#bd3786"
            ],
            [
             0.5555555555555556,
             "#d8576b"
            ],
            [
             0.6666666666666666,
             "#ed7953"
            ],
            [
             0.7777777777777778,
             "#fb9f3a"
            ],
            [
             0.8888888888888888,
             "#fdca26"
            ],
            [
             1,
             "#f0f921"
            ]
           ]
          },
          "colorway": [
           "#636efa",
           "#EF553B",
           "#00cc96",
           "#ab63fa",
           "#FFA15A",
           "#19d3f3",
           "#FF6692",
           "#B6E880",
           "#FF97FF",
           "#FECB52"
          ],
          "font": {
           "color": "#2a3f5f"
          },
          "geo": {
           "bgcolor": "white",
           "lakecolor": "white",
           "landcolor": "#E5ECF6",
           "showlakes": true,
           "showland": true,
           "subunitcolor": "white"
          },
          "hoverlabel": {
           "align": "left"
          },
          "hovermode": "closest",
          "mapbox": {
           "style": "light"
          },
          "paper_bgcolor": "white",
          "plot_bgcolor": "#E5ECF6",
          "polar": {
           "angularaxis": {
            "gridcolor": "white",
            "linecolor": "white",
            "ticks": ""
           },
           "bgcolor": "#E5ECF6",
           "radialaxis": {
            "gridcolor": "white",
            "linecolor": "white",
            "ticks": ""
           }
          },
          "scene": {
           "xaxis": {
            "backgroundcolor": "#E5ECF6",
            "gridcolor": "white",
            "gridwidth": 2,
            "linecolor": "white",
            "showbackground": true,
            "ticks": "",
            "zerolinecolor": "white"
           },
           "yaxis": {
            "backgroundcolor": "#E5ECF6",
            "gridcolor": "white",
            "gridwidth": 2,
            "linecolor": "white",
            "showbackground": true,
            "ticks": "",
            "zerolinecolor": "white"
           },
           "zaxis": {
            "backgroundcolor": "#E5ECF6",
            "gridcolor": "white",
            "gridwidth": 2,
            "linecolor": "white",
            "showbackground": true,
            "ticks": "",
            "zerolinecolor": "white"
           }
          },
          "shapedefaults": {
           "line": {
            "color": "#2a3f5f"
           }
          },
          "ternary": {
           "aaxis": {
            "gridcolor": "white",
            "linecolor": "white",
            "ticks": ""
           },
           "baxis": {
            "gridcolor": "white",
            "linecolor": "white",
            "ticks": ""
           },
           "bgcolor": "#E5ECF6",
           "caxis": {
            "gridcolor": "white",
            "linecolor": "white",
            "ticks": ""
           }
          },
          "title": {
           "x": 0.05
          },
          "xaxis": {
           "automargin": true,
           "gridcolor": "white",
           "linecolor": "white",
           "ticks": "",
           "title": {
            "standoff": 15
           },
           "zerolinecolor": "white",
           "zerolinewidth": 2
          },
          "yaxis": {
           "automargin": true,
           "gridcolor": "white",
           "linecolor": "white",
           "ticks": "",
           "title": {
            "standoff": 15
           },
           "zerolinecolor": "white",
           "zerolinewidth": 2
          }
         }
        },
        "xaxis": {
         "anchor": "y",
         "domain": [
          0,
          1
         ],
         "tickangle": 0,
         "title": {
          "text": "x"
         }
        },
        "yaxis": {
         "anchor": "x",
         "domain": [
          0,
          1
         ],
         "title": {
          "text": "y"
         }
        }
       }
      }
     },
     "metadata": {}
    }
   ],
   "source": [
    "fig = px.scatter(x = df_age_bounty['latest_age'], y=df_age_bounty['last_bounty'], color = df_age_bounty['main_crew'])\n",
    "fig.update_xaxes(tickangle=0)\n",
    "fig.show()"
   ]
  },
  {
   "cell_type": "code",
   "execution_count": null,
   "metadata": {},
   "outputs": [],
   "source": []
  }
 ],
 "metadata": {
  "kernelspec": {
   "name": "python383jvsc74a57bd0f4887bd50a98139acba22dce32608113e9c39367e98f359f3d17adf55ad88d27",
   "display_name": "Python 3.8.3 64-bit ('base': conda)"
  },
  "language_info": {
   "codemirror_mode": {
    "name": "ipython",
    "version": 3
   },
   "file_extension": ".py",
   "mimetype": "text/x-python",
   "name": "python",
   "nbconvert_exporter": "python",
   "pygments_lexer": "ipython3",
   "version": "3.8.3"
  }
 },
 "nbformat": 4,
 "nbformat_minor": 4
}